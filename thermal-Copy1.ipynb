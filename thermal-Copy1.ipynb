{
 "cells": [
  {
   "cell_type": "code",
   "execution_count": 1,
   "metadata": {},
   "outputs": [],
   "source": [
    "import torch\n",
    "import torch.nn as nn\n",
    "from math import pi #to get the definition of pi\n",
    "import pandas as pd\n",
    "import numpy as np\n",
    "import matplotlib.pyplot as plt"
   ]
  },
  {
   "cell_type": "markdown",
   "metadata": {},
   "source": [
    "This is a thermal problem."
   ]
  },
  {
   "cell_type": "code",
   "execution_count": 2,
   "metadata": {},
   "outputs": [],
   "source": [
    "k = 400 #thermal conductivity of copper\n",
    "stefanBoltz = 5.670373e-8 # stefan-boltzman cst\n",
    "h = 1 #plate size\n",
    "Tb = 1000 #temperature of the bottom\n",
    "epsilon=0.5 # emissivity\n",
    "rho = 8960 # Copper density\n",
    "Cp=386 #specific heat\n",
    "Ta = 300 #ambient temperature\n",
    "tz = 0.01 # plate thickness\n",
    "\n",
    "#for ease of use\n",
    "a = rho*Cp*tz\n",
    "b = -k*tz\n",
    "c = 2*h\n",
    "d = 2*stefanBoltz*epsilon"
   ]
  },
  {
   "cell_type": "code",
   "execution_count": 160,
   "metadata": {},
   "outputs": [],
   "source": [
    "n = 25\n",
    "L=h\n",
    "#bottom edge\n",
    "rand_L = np.random.rand(n) * L \n",
    "discr_s1 = (np.array([rand_L.transpose(), np.zeros(n)])).transpose()\n",
    "\n",
    "#other edges\n",
    "border = np.ones([n])*L\n",
    "rand_L = np.random.rand(n) * L \n",
    "discr_s2_1 = np.array([border, rand_L.transpose()]).transpose()\n",
    "rand_L = np.random.rand(n) * L \n",
    "discr_s2_2 = np.array([rand_L.transpose(), border]).transpose()\n",
    "rand_L = np.random.rand(n) * L \n",
    "discr_s2_3 = np.array([np.zeros(n), rand_L.transpose()]).transpose()"
   ]
  },
  {
   "cell_type": "code",
   "execution_count": 161,
   "metadata": {},
   "outputs": [
    {
     "data": {
      "text/plain": [
       "[<matplotlib.lines.Line2D at 0x7f28a60b6cc0>]"
      ]
     },
     "execution_count": 161,
     "metadata": {},
     "output_type": "execute_result"
    },
    {
     "data": {
      "image/png": "[encoded data removed]",
      "text/plain": [
       "<Figure size 432x288 with 1 Axes>"
      ]
     },
     "metadata": {
      "needs_background": "light"
     },
     "output_type": "display_data"
    }
   ],
   "source": [
    "plt.plot(discr_s1[:,0],discr_s1[:,1], 'go')\n",
    "plt.plot(discr_s2_1[:,0],discr_s2_1[:,1],'ro') \n",
    "plt.plot(discr_s2_2[:,0],discr_s2_2[:,1],'ro') \n",
    "plt.plot(discr_s2_3[:,0],discr_s2_3[:,1],'ro') "
   ]
  },
  {
   "cell_type": "code",
   "execution_count": 162,
   "metadata": {},
   "outputs": [],
   "source": [
    "n=200\n",
    "discr_om = np.array([np.random.rand(n), np.random.rand(n)]).transpose() * L\n",
    "discr_om = discr_om[np.where((np.abs(discr_om[:,0])< L-0.02))]\n",
    "discr_om = discr_om[np.where((np.abs(discr_om[:,1])< L-0.02))]\n",
    "discr_om = discr_om[np.where((np.abs(discr_om[:,0])> 0.02))]\n",
    "discr_om = discr_om[np.where((np.abs(discr_om[:,1])> 0.02))]"
   ]
  },
  {
   "cell_type": "code",
   "execution_count": 163,
   "metadata": {},
   "outputs": [
    {
     "data": {
      "text/plain": [
       "[<matplotlib.lines.Line2D at 0x7f28a6082da0>]"
      ]
     },
     "execution_count": 163,
     "metadata": {},
     "output_type": "execute_result"
    },
    {
     "data": {
      "image/png": "[encoded data removed]",
      "text/plain": [
       "<Figure size 432x288 with 1 Axes>"
      ]
     },
     "metadata": {
      "needs_background": "light"
     },
     "output_type": "display_data"
    }
   ],
   "source": [
    "plt.plot(discr_s1[:,0],discr_s1[:,1], 'go')\n",
    "plt.plot(discr_s2_1[:,0],discr_s2_1[:,1],'ro') \n",
    "plt.plot(discr_s2_2[:,0],discr_s2_2[:,1],'ro') \n",
    "plt.plot(discr_s2_3[:,0],discr_s2_3[:,1],'ro') \n",
    "plt.plot(discr_om[:,0],discr_om[:,1],'bo')"
   ]
  },
  {
   "cell_type": "code",
   "execution_count": 164,
   "metadata": {},
   "outputs": [],
   "source": [
    "discr_t = np.linspace(0.1,200,20)"
   ]
  },
  {
   "cell_type": "code",
   "execution_count": 165,
   "metadata": {},
   "outputs": [
    {
     "name": "stdout",
     "output_type": "stream",
     "text": [
      "(3780, 3) (500, 3) (1500, 3) (189, 3)\n"
     ]
    }
   ],
   "source": [
    "size_om = discr_om.shape[0]\n",
    "size_s1 = discr_s1.shape[0]\n",
    "size_s2 = discr_s2_1.shape[0]\n",
    "\n",
    "discr_om_t = np.concatenate((discr_om, np.ones([size_om,1])*discr_t[0]), axis=1)\n",
    "discr_s1_t = np.concatenate((discr_s1, np.ones([size_s1,1])*discr_t[0]), axis=1)\n",
    "discr_s2_1_t = np.concatenate((discr_s2_1, np.ones([size_s2,1])*discr_t[0]), axis=1)\n",
    "discr_s2_2_t = np.concatenate((discr_s2_2, np.ones([size_s2,1])*discr_t[0]), axis=1)\n",
    "discr_s2_3_t = np.concatenate((discr_s2_3, np.ones([size_s2,1])*discr_t[0]), axis=1)\n",
    "discr_om_0 = np.concatenate((discr_om, np.ones([size_om,1])*0), axis=1)\n",
    "for i in range(discr_t.size - 1 ):\n",
    "    discr_om_t_temp = np.concatenate((discr_om, np.ones([size_om,1])*discr_t[i+1]), axis=1)\n",
    "    discr_om_t = np.concatenate((discr_om_t, discr_om_t_temp))\n",
    "    \n",
    "    discr_s1_t_temp = np.concatenate((discr_s1, np.ones([size_s1,1])*discr_t[i+1]), axis=1)\n",
    "    discr_s1_t = np.concatenate((discr_s1_t, discr_s1_t_temp))\n",
    "    \n",
    "    discr_s2_t_temp = np.concatenate((discr_s2_1, np.ones([size_s2,1])*discr_t[i+1]), axis=1)\n",
    "    discr_s2_1_t = np.concatenate((discr_s2_1_t, discr_s2_t_temp))\n",
    "    \n",
    "    discr_s2_t_temp = np.concatenate((discr_s2_1, np.ones([size_s2,1])*discr_t[i+1]), axis=1)\n",
    "    discr_s2_2_t = np.concatenate((discr_s2_2_t, discr_s2_t_temp))\n",
    "    \n",
    "    discr_s2_t_temp = np.concatenate((discr_s2_3, np.ones([size_s2,1])*discr_t[i+1]), axis=1)\n",
    "    discr_s2_3_t = np.concatenate((discr_s2_3_t, discr_s2_t_temp))\n",
    "    \n",
    "discr_s2_t = np.concatenate((discr_s2_1_t,discr_s2_2_t,discr_s2_3_t))\n",
    "\n",
    "print(discr_om_t.shape,discr_s1_t.shape,discr_s2_t.shape, discr_om_0.shape)\n",
    "\n",
    "\n",
    "discr_om_t = torch.tensor(discr_om_t, requires_grad=True).to(torch.float32).cuda()\n",
    "discr_s1_t = torch.tensor(discr_s1_t, requires_grad=True).to(torch.float32).cuda()\n",
    "discr_s2_t = torch.tensor(discr_s2_t, requires_grad=True).to(torch.float32).cuda()\n",
    "discr_om_0 = torch.tensor(discr_om_0, requires_grad=True).to(torch.float32).cuda()\n",
    "\n",
    "data = torch.cat((discr_om_0, discr_om_t, discr_s1_t, discr_s2_t)); \n",
    "size_om_t,size_s1, size_s2,size_om_0 = discr_om_t.shape[0],discr_s1_t.shape[0],discr_s2_t.shape[0], discr_om_0.shape[0]"
   ]
  },
  {
   "cell_type": "code",
   "execution_count": null,
   "metadata": {},
   "outputs": [],
   "source": []
  },
  {
   "cell_type": "code",
   "execution_count": 166,
   "metadata": {},
   "outputs": [],
   "source": [
    "def g1(X) : return 0 #no conductivity on s2\n",
    "def g2(X) : return 1000 #temperature at the bottom\n",
    "def u0(X) : return 300 #initial temperature of the plate\n",
    "def f(X) : return 0 #left hand side of the PDE"
   ]
  },
  {
   "cell_type": "code",
   "execution_count": 167,
   "metadata": {},
   "outputs": [],
   "source": [
    "def Loss_test1(discr_om_t, discr_s1_t, discr_s2_t, discr_om) :\n",
    "\n",
    "    #compute solution\n",
    "    N_om = model(discr_om_t)[:,0] # For the PDE\n",
    "    N_s1 = model(discr_s1_t) # for the BC on sigma1\n",
    "    N_s2 = model(discr_s2_t)[:,0] # for the BC on sigma2\n",
    "    N_0 = model(discr_om)[:,0] # for the BC on omega at t=0\n",
    "    \n",
    "    #derivative on the domain\n",
    "    fst_order = torch.autograd.grad(N_om.sum(), discr_om_t, create_graph=True)\n",
    "    hes_x = torch.autograd.grad(fst_order[0][:,0].sum(),discr_om_t, create_graph=True)[0][:,0]\n",
    "    hes_y = torch.autograd.grad(fst_order[0][:,1].sum(),discr_om_t, create_graph=True)[0][:,1]\n",
    "    \n",
    "    #derivative on the top and side edges\n",
    "    fst_order_s2 = torch.autograd.grad(N_s2.sum(), discr_s2_t, create_graph=True)\n",
    "    normal_derivative = torch.cat((fst_order_s2[0][:400,0],fst_order_s2[0][400:800,1], -fst_order_s2[0][800:,0]))\n",
    "    \n",
    "    \n",
    "    loss_om = torch.sum((a*fst_order[0][:,2] + b*(hes_x + hes_y) + c*(N_om-Ta) + d*(N_om**4-Ta**4))**2)\n",
    "    loss_s1 = torch.sum((N_s1-Tb)**2)\n",
    "    loss_s2 = torch.sum((normal_derivative)**2)\n",
    "    loss_0  = torch.sum((N_0-Ta)**2)\n",
    "    \n",
    "    loss =   torch.sqrt(loss_s1) + torch.sqrt(loss_om) + torch.sqrt(loss_s2) + torch.sqrt(loss_0.sum())\n",
    "    \n",
    "    return loss\n",
    "    \n",
    "    "
   ]
  },
  {
   "cell_type": "code",
   "execution_count": 168,
   "metadata": {},
   "outputs": [],
   "source": [
    "def Loss_test2(data,size_om_0, size_om_t,size_s1, size_s2) :\n",
    "    #data order is the same as size order.\n",
    "    output = model(data)\n",
    "    \n",
    "    #data slice\n",
    "    om_0 = slice(0, size_om_0)\n",
    "    om_t = slice(size_om_0, size_om_0+size_om_t)\n",
    "    s1_t = slice(size_om_0+size_om_t, size_om_0+size_om_t+size_s1)\n",
    "    s2_t = slice(size_om_0+size_om_t+size_s1, size_om_0+size_om_t+size_s1+size_s2)\n",
    "    \n",
    "    fst_order = torch.autograd.grad(N_om.sum(), data, create_graph=True)\n",
    "    hes_x = torch.autograd.grad(fst_order[0][om_t,0].sum(),data[om_t], create_graph=True)[0][:,0]\n",
    "    hes_y = torch.autograd.grad(fst_order[0][om_t,1].sum(),data[om_t], create_graph=True)[0][:,1]\n",
    "    \n",
    "    normal= torch.where((data[:,0]==0) |(data[:,0]==1), fst_order, 0)\n",
    "    \n",
    "    normal_derivative = torch.cat((fst_order_s2[0][:25,0],fst_order_s2[0][25:50,1], -fst_order_s2[0][50:,0]))\n",
    "\n",
    "    "
   ]
  },
  {
   "cell_type": "code",
   "execution_count": 194,
   "metadata": {},
   "outputs": [],
   "source": [
    "class DGM(nn.Module):\n",
    "    # Initialize the layers\n",
    "    def __init__(self):\n",
    "        super().__init__()\n",
    "        self.S1 = nn.Linear(3,50)\n",
    "        self.Z1 = nn.Linear(50,50) ; self.UZ1 = nn.Linear(3,50, bias=False)\n",
    "        self.G1 = nn.Linear(50,50) ; self.UG1 = nn.Linear(3,50, bias=False)\n",
    "        self.R1 = nn.Linear(50,50) ; self.UR1 = nn.Linear(3,50, bias=False)\n",
    "        self.H1 = nn.Linear(50,50) ; self.UH1 = nn.Linear(3,50, bias=False)\n",
    "\n",
    "        self.Z2 = nn.Linear(50,50) ; self.UZ2 = nn.Linear(3,50, bias=False)\n",
    "        self.G2 = nn.Linear(50,50) ; self.UG2 = nn.Linear(3,50, bias=False)\n",
    "        self.R2 = nn.Linear(50,50) ; self.UR2 = nn.Linear(3,50, bias=False)\n",
    "        self.H2 = nn.Linear(50,50) ; self.UH2 = nn.Linear(3,50, bias=False)\n",
    "\n",
    "        self.Z3 = nn.Linear(50,50) ; self.UZ3 = nn.Linear(3,50, bias=False)\n",
    "        self.G3 = nn.Linear(50,50) ; self.UG3 = nn.Linear(3,50, bias=False)\n",
    "        self.R3 = nn.Linear(50,50) ; self.UR3 = nn.Linear(3,50, bias=False)\n",
    "        self.H3 = nn.Linear(50,50) ; self.UH3 = nn.Linear(3,50, bias=False)\n",
    "        self.S4 = nn.Linear(50,50)\n",
    "        self.Z4 = nn.Linear(50,50) ; self.UZ4 = nn.Linear(3,50, bias=False)\n",
    "        self.G4 = nn.Linear(50,50) ; self.UG4 = nn.Linear(3,50, bias=False)\n",
    "        self.R4 = nn.Linear(50,50) ; self.UR4 = nn.Linear(3,50, bias=False)\n",
    "        self.H4 = nn.Linear(50,50) ; self.UH4 = nn.Linear(3,50, bias=False)\n",
    "\n",
    "        self.f = nn.Linear(50,1)\n",
    "        \n",
    "        self.bn1 = nn.BatchNorm1d(50)\n",
    "        self.bn2 = nn.BatchNorm1d(50)\n",
    "        self.bn3 = nn.BatchNorm1d(50)\n",
    "        \n",
    "    def forward(self,x):\n",
    "        s1 = torch.relu(self.S1(x))\n",
    "        z1 = torch.tanh(self.UZ1(x)+self.Z1(s1))\n",
    "        g1 = torch.tanh(self.UG1(x)+self.G1(s1))\n",
    "        r1 = torch.tanh(self.UR1(x)+self.R1(s1))\n",
    "        h1 = torch.tanh(self.UH1(x)+self.H1(s1*r1))\n",
    "        s2 = (1 - g1) * h1 + z1*s1 + s1\n",
    "        z2 = torch.tanh(self.UZ2(x)+self.Z2(s2))\n",
    "        g2 = torch.tanh(self.UG2(x)+self.G2(s2))\n",
    "        r2 = torch.tanh(self.UR2(x)+self.R2(s2))\n",
    "        h2 = torch.tanh(self.UH2(x)+self.H2(s2*r2))\n",
    "        s3 = (1 - g2) * h2 + z2*s2 + s2\n",
    "        z3 = torch.tanh(self.UZ3(x)+self.Z3(s3))\n",
    "        g3 = torch.tanh(self.UG3(x)+self.G3(s3))\n",
    "        r3 = torch.tanh(self.UR3(x)+self.R3(s3))\n",
    "        h3 = torch.tanh(self.UH3(x)+self.H3(s3*r3))\n",
    "        s4 = (1 - g3) * h3 + z3*s3 +s3\n",
    "        x = self.f(s4)\n",
    "        return x"
   ]
  },
  {
   "cell_type": "code",
   "execution_count": 195,
   "metadata": {},
   "outputs": [],
   "source": [
    "class SimpleNet(nn.Module):\n",
    "    # Initialize the layers\n",
    "    def __init__(self):\n",
    "        super().__init__()\n",
    "        self.linear1 = nn.Linear(3, 100, bias=True) #multipliyin the input by some weigth\n",
    "        self.linear2 = nn.Linear(100, 100)\n",
    "        self.linear3 = nn.Linear(100, 100)\n",
    "        self.linear4 = nn.Linear(100, 1)\n",
    "\n",
    "        self.bn1 = nn.BatchNorm1d(100)\n",
    "        self.bn2 = nn.BatchNorm1d(100)\n",
    "        self.bn3 = nn.BatchNorm1d(100)\n",
    "        \n",
    "    def forward(self,x):\n",
    "        x = torch.tanh(self.bn1(self.linear1(x)))\n",
    "        x = torch.tanh(self.bn2(self.linear2(x))) + x\n",
    "        x = torch.tanh(self.bn3(self.linear3(x))) + x\n",
    "        x = self.linear4(x)\n",
    "\n",
    "        return x"
   ]
  },
  {
   "cell_type": "code",
   "execution_count": 196,
   "metadata": {},
   "outputs": [],
   "source": [
    "model = DGM() #the network we created\n",
    "opt = torch.optim.Adam(model.parameters(),lr = 0.01) #gradient descent\n",
    "model.cuda()\n",
    "\n",
    "def fit_final(epochs, lr=0.001):\n",
    "    opt.param_groups[0]['lr'] = lr\n",
    "    \n",
    "    for epoch in range(epochs):\n",
    "        epoch +=1\n",
    "        opt.zero_grad()\n",
    "        loss =Loss_test1(discr_om_t, discr_s1_t, discr_s2_t, discr_om_0) \n",
    "        loss.backward()\n",
    "        opt.step()# update the parameters\n",
    "        if epoch % (epochs//10) == 0: print('epoch {}, loss {}'.format(epoch, loss.data))"
   ]
  },
  {
   "cell_type": "code",
   "execution_count": null,
   "metadata": {},
   "outputs": [],
   "source": []
  },
  {
   "cell_type": "code",
   "execution_count": 197,
   "metadata": {},
   "outputs": [],
   "source": [
    "lr = [5e-1,1e-1,5e-2,1e-2,5e-3,1e-3,5e-4,1e-4,5e-5,1e-5,5e-6,1e-6,5e-7,1e-7]\n"
   ]
  },
  {
   "cell_type": "code",
   "execution_count": 206,
   "metadata": {},
   "outputs": [
    {
     "name": "stdout",
     "output_type": "stream",
     "text": [
      "epoch 10, loss 30020.322265625\n",
      "epoch 20, loss 30020.322265625\n",
      "epoch 30, loss 30020.322265625\n",
      "epoch 40, loss 30020.322265625\n",
      "epoch 50, loss 30020.322265625\n",
      "epoch 60, loss 30020.322265625\n",
      "epoch 70, loss 30020.322265625\n",
      "epoch 80, loss 30020.322265625\n",
      "epoch 90, loss 30020.322265625\n",
      "epoch 100, loss 30020.322265625\n"
     ]
    }
   ],
   "source": [
    "fit_final(100,0.00001)"
   ]
  },
  {
   "cell_type": "code",
   "execution_count": 207,
   "metadata": {},
   "outputs": [],
   "source": [
    "\n",
    "#compute solution\n",
    "N_om = model(discr_om_t)[:,0] # For the PDE\n",
    "N_s1 = model(discr_s1_t)[:,0] # for the BC on sigma1\n",
    "N_s2 = model(discr_s2_t)[:,0] # for the BC on sigma2\n",
    "N_0 = model(discr_om_0)[:,0] # for the BC on omega at t=0\n",
    "    \n",
    "#derivative on the domain\n",
    "fst_order = torch.autograd.grad(N_om.sum(), discr_om_t, create_graph=True)\n",
    "hes_x = torch.autograd.grad(fst_order[0][:,0].sum(),discr_om_t, create_graph=True)[0][:,0]\n",
    "hes_y = torch.autograd.grad(fst_order[0][:,1].sum(),discr_om_t, create_graph=True)[0][:,1]\n",
    "   \n",
    "#derivative on the top and side edges\n",
    "fst_order_s2 = torch.autograd.grad(N_s2.sum(), discr_s2_t, create_graph=True)\n",
    "normal_derivative = torch.cat((fst_order_s2[0][:25,0],fst_order_s2[0][25:50,1], -fst_order_s2[0][50:,0]))\n",
    "    \n",
    "    \n",
    "loss_om = (a*fst_order[0][:,2] - b*(hes_x + hes_y) + c*(N_om-Ta) + d*(N_om**4-Ta**4))**2\n",
    "loss_s1 = (N_s1-Tb)**2\n",
    "loss_s2 = (normal_derivative)**2\n",
    "loss_0  = (N_0-Ta)**2"
   ]
  },
  {
   "cell_type": "code",
   "execution_count": 208,
   "metadata": {},
   "outputs": [
    {
     "data": {
      "text/plain": [
       "tensor([ 59.0602,  59.0548,  59.0593,  59.0623,  59.0546,  59.0534,  59.0544,\n",
       "         59.0560,  59.0562,  59.0635,  59.0626,  59.0536,  59.0554,  59.0607,\n",
       "         59.0614,  59.0573,  59.0575,  59.0579,  59.0537,  59.0618,  59.0621,\n",
       "         59.0565,  59.0555,  59.0619,  59.0608, -61.7748, -61.7802, -61.7757,\n",
       "        -61.7727, -61.7805, -61.7816, -61.7807, -61.7790, -61.7789, -61.7716,\n",
       "        -61.7724, -61.7815, -61.7796, -61.7743, -61.7736, -61.7777, -61.7775,\n",
       "        -61.7771, -61.7813, -61.7733, -61.7729, -61.7785, -61.7795, -61.7731,\n",
       "        -61.7742, -61.4207, -61.4261, -61.4216, -61.4185, -61.4263, -61.4275,\n",
       "        -61.4265, -61.4249, -61.4247, -61.4174, -61.4183, -61.4273, -61.4255,\n",
       "        -61.4202, -61.4195, -61.4236, -61.4234, -61.4229, -61.4272, -61.4191,\n",
       "        -61.4188, -61.4244, -61.4254, -61.4190, -61.4200, -61.0666, -61.0719,\n",
       "        -61.0675, -61.0644, -61.0722, -61.0734, -61.0724, -61.0707, -61.0706,\n",
       "        -61.0633, -61.0641, -61.0732, -61.0714, -61.0661, -61.0654, -61.0694,\n",
       "        -61.0693, -61.0688, -61.0730, -61.0650, -61.0646, -61.0703, -61.0712,\n",
       "        -61.0648, -61.0659, -60.7124, -60.7178, -60.7133, -60.7103, -60.7180,\n",
       "        -60.7192, -60.7182, -60.7166, -60.7164, -60.7091, -60.7100, -60.7190,\n",
       "        -60.7172, -60.7119, -60.7112, -60.7153, -60.7151, -60.7147, -60.7189,\n",
       "        -60.7108, -60.7105, -60.7161, -60.7171, -60.7107, -60.7118, -60.3583,\n",
       "        -60.3637, -60.3592, -60.3561, -60.3639, -60.3651, -60.3641, -60.3624,\n",
       "        -60.3623, -60.3550, -60.3559, -60.3649, -60.3631, -60.3578, -60.3571,\n",
       "        -60.3611, -60.3610, -60.3605, -60.3647, -60.3567, -60.3563, -60.3620,\n",
       "        -60.3629, -60.3566, -60.3576, -60.0041, -60.0095, -60.0051, -60.0020,\n",
       "        -60.0098, -60.0109, -60.0100, -60.0083, -60.0082, -60.0009, -60.0017,\n",
       "        -60.0108, -60.0090, -60.0037, -60.0029, -60.0070, -60.0069, -60.0064,\n",
       "        -60.0106, -60.0026, -60.0022, -60.0079, -60.0088, -60.0024, -60.0035,\n",
       "        -59.6500, -59.6554, -59.6509, -59.6478, -59.6556, -59.6568, -59.6558,\n",
       "        -59.6542, -59.6540, -59.6467, -59.6476, -59.6566, -59.6548, -59.6495,\n",
       "        -59.6488, -59.6529, -59.6527, -59.6522, -59.6565, -59.6484, -59.6481,\n",
       "        -59.6537, -59.6547, -59.6483, -59.6494, -59.2959, -59.3012, -59.2968,\n",
       "        -59.2937, -59.3015, -59.3027, -59.3017, -59.3000, -59.2999, -59.2926,\n",
       "        -59.2934, -59.3025, -59.3007, -59.2954, -59.2947, -59.2987, -59.2986,\n",
       "        -59.2981, -59.3023, -59.2943, -59.2939, -59.2996, -59.3005, -59.2942,\n",
       "        -59.2952, -58.9417, -58.9471, -58.9426, -58.9396, -58.9474, -58.9485,\n",
       "        -58.9475, -58.9459, -58.9458, -58.9385, -58.9393, -58.9483, -58.9465,\n",
       "        -58.9412, -58.9405, -58.9446, -58.9444, -58.9440, -58.9482, -58.9402,\n",
       "        -58.9398, -58.9454, -58.9464, -58.9400, -58.9411, -58.5876, -58.5930,\n",
       "        -58.5885, -58.5854, -58.5932, -58.5944, -58.5934, -58.5918, -58.5916,\n",
       "        -58.5843, -58.5852, -58.5942, -58.5924, -58.5871, -58.5864, -58.5905,\n",
       "        -58.5903, -58.5898, -58.5941, -58.5860, -58.5857, -58.5913, -58.5922,\n",
       "        -58.5859, -58.5869, -58.2335, -58.2388, -58.2344, -58.2313, -58.2391,\n",
       "        -58.2403, -58.2393, -58.2376, -58.2375, -58.2302, -58.2310, -58.2401,\n",
       "        -58.2383, -58.2330, -58.2323, -58.2363, -58.2362, -58.2357, -58.2399,\n",
       "        -58.2319, -58.2315, -58.2372, -58.2381, -58.2317, -58.2328, -57.8793,\n",
       "        -57.8847, -57.8802, -57.8772, -57.8849, -57.8861, -57.8851, -57.8835,\n",
       "        -57.8833, -57.8760, -57.8769, -57.8859, -57.8841, -57.8788, -57.8781,\n",
       "        -57.8822, -57.8820, -57.8816, -57.8858, -57.8777, -57.8774, -57.8830,\n",
       "        -57.8840, -57.8776, -57.8787, -57.5252, -57.5306, -57.5261, -57.5230,\n",
       "        -57.5308, -57.5320, -57.5310, -57.5293, -57.5292, -57.5219, -57.5228,\n",
       "        -57.5318, -57.5300, -57.5247, -57.5240, -57.5280, -57.5279, -57.5274,\n",
       "        -57.5316, -57.5236, -57.5233, -57.5289, -57.5298, -57.5235, -57.5245,\n",
       "        -57.1710, -57.1764, -57.1720, -57.1689, -57.1767, -57.1778, -57.1769,\n",
       "        -57.1752, -57.1751, -57.1678, -57.1686, -57.1777, -57.1759, -57.1706,\n",
       "        -57.1698, -57.1739, -57.1738, -57.1733, -57.1775, -57.1695, -57.1691,\n",
       "        -57.1748, -57.1757, -57.1693, -57.1704, -56.8169, -56.8223, -56.8178,\n",
       "        -56.8147, -56.8225, -56.8237, -56.8227, -56.8211, -56.8209, -56.8136,\n",
       "        -56.8145, -56.8235, -56.8217, -56.8164, -56.8157, -56.8198, -56.8196,\n",
       "        -56.8191, -56.8234, -56.8153, -56.8150, -56.8206, -56.8216, -56.8152,\n",
       "        -56.8163, -56.4628, -56.4681, -56.4637, -56.4606, -56.4684, -56.4696,\n",
       "        -56.4686, -56.4669, -56.4668, -56.4595, -56.4603, -56.4694, -56.4676,\n",
       "        -56.4623, -56.4616, -56.4656, -56.4655, -56.4650, -56.4692, -56.4612,\n",
       "        -56.4608, -56.4665, -56.4674, -56.4610, -56.4621, -56.1086, -56.1140,\n",
       "        -56.1095, -56.1065, -56.1143, -56.1154, -56.1144, -56.1128, -56.1127,\n",
       "        -56.1054, -56.1062, -56.1152, -56.1134, -56.1081, -56.1074, -56.1115,\n",
       "        -56.1113, -56.1109, -56.1151, -56.1071, -56.1067, -56.1123, -56.1133,\n",
       "        -56.1069, -56.1080, -55.7545, -55.7599, -55.7554, -55.7523, -55.7601,\n",
       "        -55.7613, -55.7603, -55.7587, -55.7585, -55.7512, -55.7521, -55.7611,\n",
       "        -55.7593, -55.7540, -55.7533, -55.7574, -55.7572, -55.7567, -55.7610,\n",
       "        -55.7529, -55.7526, -55.7582, -55.7591, -55.7528, -55.7538, -55.4004,\n",
       "        -55.4057, -55.4013, -55.3982, -55.4060, -55.4072, -55.4062, -55.4045,\n",
       "        -55.4044, -55.3971, -55.3979, -55.4070, -55.4052, -55.3999, -55.3992,\n",
       "        -55.4032, -55.4031, -55.4026, -55.4068, -55.3988, -55.3984, -55.4041,\n",
       "        -55.4050, -55.3986, -55.3997], device='cuda:0',\n",
       "       grad_fn=<SelectBackward>)"
      ]
     },
     "execution_count": 208,
     "metadata": {},
     "output_type": "execute_result"
    }
   ],
   "source": [
    "N_s1"
   ]
  },
  {
   "cell_type": "code",
   "execution_count": null,
   "metadata": {},
   "outputs": [],
   "source": []
  },
  {
   "cell_type": "code",
   "execution_count": null,
   "metadata": {},
   "outputs": [],
   "source": [
    "import matplotlib.pyplot as plt\n",
    "from matplotlib import pyplot, cm\n",
    "from mpl_toolkits.mplot3d import Axes3D \n",
    "import numpy as np\n",
    "\n",
    "s = 101\n",
    "data = pd.read_csv('Laplacian100.csv', header=None) #let's import a grid\n",
    "X = np.concatenate((data.values[:,0:2], np.ones([data.shape[0],1])*5000 ), axis=1)\n",
    "X = torch.tensor(X, requires_grad=True).to(torch.float32).cuda();X\n",
    "\n",
    "x = np.reshape(data.values[:,0],[s,s])\n",
    "y = np.reshape(data.values[:,1],[s,s])\n",
    "\n",
    "N = model(X).cpu()\n",
    "u_model = np.reshape(N.data.numpy(),[s,s])\n",
    "\n",
    "plt.contour(x,y,u_model)"
   ]
  },
  {
   "cell_type": "code",
   "execution_count": null,
   "metadata": {},
   "outputs": [],
   "source": []
  },
  {
   "cell_type": "code",
   "execution_count": null,
   "metadata": {},
   "outputs": [],
   "source": [
    "#data order is the same as size order.\n",
    "output = model(data)\n",
    "    \n",
    "#data slice\n",
    "om_0 = slice(0, size_om_0)\n",
    "om_t = slice(size_om_0, size_om_0+size_om_t)\n",
    "s1_t = slice(size_om_0+size_om_t, size_om_0+size_om_t+size_s1)\n",
    "s2_t = slice(size_om_0+size_om_t+size_s1, size_om_0+size_om_t+size_s1+size_s2)\n",
    "    \n",
    "fst_order = torch.autograd.grad(output.sum(), data, create_graph=True)\n",
    "hes_x = torch.autograd.grad(fst_order[0][om_t,0].sum(),data[om_t], create_graph=True)[0][:,0]\n",
    "hes_y = torch.autograd.grad(fst_order[0][om_t,1].sum(),data[om_t], create_graph=True)[0][:,1]\n",
    "    \n",
    "normal= torch.where((data[:,0]==0) |(data[:,0]==1), fst_order, 0)\n",
    "    \n",
    "normal_derivative = torch.cat((fst_order_s2[0][:25,0],fst_order_s2[0][25:50,1], -fst_order_s2[0][50:,0]))"
   ]
  },
  {
   "cell_type": "code",
   "execution_count": null,
   "metadata": {},
   "outputs": [],
   "source": []
  },
  {
   "cell_type": "code",
   "execution_count": 18,
   "metadata": {},
   "outputs": [
    {
     "data": {
      "text/plain": [
       "Parameter containing:\n",
       "tensor([[nan, nan, nan],\n",
       "        [nan, nan, nan],\n",
       "        [nan, nan, nan],\n",
       "        [nan, nan, nan],\n",
       "        [nan, nan, nan],\n",
       "        [nan, nan, nan],\n",
       "        [nan, nan, nan],\n",
       "        [nan, nan, nan],\n",
       "        [nan, nan, nan],\n",
       "        [nan, nan, nan],\n",
       "        [nan, nan, nan],\n",
       "        [nan, nan, nan],\n",
       "        [nan, nan, nan],\n",
       "        [nan, nan, nan],\n",
       "        [nan, nan, nan],\n",
       "        [nan, nan, nan],\n",
       "        [nan, nan, nan],\n",
       "        [nan, nan, nan],\n",
       "        [nan, nan, nan],\n",
       "        [nan, nan, nan],\n",
       "        [nan, nan, nan],\n",
       "        [nan, nan, nan],\n",
       "        [nan, nan, nan],\n",
       "        [nan, nan, nan],\n",
       "        [nan, nan, nan],\n",
       "        [nan, nan, nan],\n",
       "        [nan, nan, nan],\n",
       "        [nan, nan, nan],\n",
       "        [nan, nan, nan],\n",
       "        [nan, nan, nan],\n",
       "        [nan, nan, nan],\n",
       "        [nan, nan, nan],\n",
       "        [nan, nan, nan],\n",
       "        [nan, nan, nan],\n",
       "        [nan, nan, nan],\n",
       "        [nan, nan, nan],\n",
       "        [nan, nan, nan],\n",
       "        [nan, nan, nan],\n",
       "        [nan, nan, nan],\n",
       "        [nan, nan, nan],\n",
       "        [nan, nan, nan],\n",
       "        [nan, nan, nan],\n",
       "        [nan, nan, nan],\n",
       "        [nan, nan, nan],\n",
       "        [nan, nan, nan],\n",
       "        [nan, nan, nan],\n",
       "        [nan, nan, nan],\n",
       "        [nan, nan, nan],\n",
       "        [nan, nan, nan],\n",
       "        [nan, nan, nan]], device='cuda:0', requires_grad=True)"
      ]
     },
     "execution_count": 18,
     "metadata": {},
     "output_type": "execute_result"
    }
   ],
   "source": [
    "model.S1.weight"
   ]
  },
  {
   "cell_type": "code",
   "execution_count": null,
   "metadata": {},
   "outputs": [],
   "source": []
  }
 ],
 "metadata": {
  "kernelspec": {
   "display_name": "Python 3",
   "language": "python",
   "name": "python3"
  },
  "language_info": {
   "codemirror_mode": {
    "name": "ipython",
    "version": 3
   },
   "file_extension": ".py",
   "mimetype": "text/x-python",
   "name": "python",
   "nbconvert_exporter": "python",
   "pygments_lexer": "ipython3",
   "version": "3.7.1"
  }
 },
 "nbformat": 4,
 "nbformat_minor": 2
}

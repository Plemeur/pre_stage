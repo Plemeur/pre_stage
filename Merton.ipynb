{
 "cells": [
  {
   "cell_type": "code",
   "execution_count": 1,
   "metadata": {},
   "outputs": [
    {
     "data": {
      "text/plain": [
       "<torch._C.Generator at 0x7fbbc414c7b0>"
      ]
     },
     "execution_count": 1,
     "metadata": {},
     "output_type": "execute_result"
    }
   ],
   "source": [
    "import time\n",
    "import torch\n",
    "import torch.nn as nn\n",
    "import pandas as pd\n",
    "import numpy as np\n",
    "import matplotlib.pyplot as plt\n",
    "import math\n",
    "\n",
    "np.random.seed(42)\n",
    "torch.manual_seed(42)"
   ]
  },
  {
   "cell_type": "markdown",
   "metadata": {},
   "source": [
    "Definition of the architecture as seen in : https://arxiv.org/pdf/1811.08782.pdf"
   ]
  },
  {
   "cell_type": "code",
   "execution_count": 2,
   "metadata": {},
   "outputs": [],
   "source": [
    "class DGM_layer(nn.Module):\n",
    "    \n",
    "    def __init__(self, in_features, out_feature, residual = False):\n",
    "        super(DGM_layer, self).__init__()\n",
    "        self.residual = residual\n",
    "        \n",
    "        self.Z = nn.Linear(out_feature,out_feature) ; self.UZ = nn.Linear(in_features,out_feature, bias=False)\n",
    "        self.G = nn.Linear(out_feature,out_feature) ; self.UG = nn.Linear(in_features,out_feature, bias=False)\n",
    "        self.R = nn.Linear(out_feature,out_feature) ; self.UR = nn.Linear(in_features,out_feature, bias=False)\n",
    "        self.H = nn.Linear(out_feature,out_feature) ; self.UH = nn.Linear(in_features,out_feature, bias=False)\n",
    "    \n",
    "\n",
    "    def forward(self, x, s):\n",
    "        z = torch.tanh(self.UZ(x)+self.Z(s))\n",
    "        g = torch.tanh(self.UG(x)+self.G(s))\n",
    "        r = torch.tanh(self.UR(x)+self.R(s))\n",
    "        h = torch.tanh(self.UH(x)+self.H(s*r))\n",
    "        return (1 - g) * h + z*s\n",
    "        \n",
    "    \n"
   ]
  },
  {
   "cell_type": "code",
   "execution_count": 3,
   "metadata": {},
   "outputs": [],
   "source": [
    "class DGM_layer2(nn.Module):\n",
    "    \n",
    "    def __init__(self, in_features, out_features, residual = False):\n",
    "        super(DGM_layer2, self).__init__()\n",
    "        self.residual = residual\n",
    "        self.in_features = in_features\n",
    "        self.out_features = out_features\n",
    "        \n",
    "        self.Uz = nn.Parameter(torch.Tensor(in_features, out_features))\n",
    "        self.Ug = nn.Parameter(torch.Tensor(in_features, out_features))\n",
    "        self.Ur = nn.Parameter(torch.Tensor(in_features, out_features))\n",
    "        self.Uh = nn.Parameter(torch.Tensor(in_features, out_features))\n",
    "        \n",
    "        self.Wz = nn.Parameter(torch.Tensor(out_features, out_features))\n",
    "        self.Wg = nn.Parameter(torch.Tensor(out_features, out_features))\n",
    "        self.Wr = nn.Parameter(torch.Tensor(out_features, out_features))\n",
    "        self.Wh = nn.Parameter(torch.Tensor(out_features, out_features))\n",
    "\n",
    "        self.bz = nn.Parameter(torch.Tensor(out_features))\n",
    "        self.bg = nn.Parameter(torch.Tensor(out_features))\n",
    "        self.br = nn.Parameter(torch.Tensor(out_features))\n",
    "        self.bh = nn.Parameter(torch.Tensor(out_features))\n",
    "\n",
    "        self.reset_parameters()\n",
    "        \n",
    "    def reset_parameters(self):\n",
    "        nn.init.xavier_normal_(self.Uz)\n",
    "        nn.init.xavier_normal_(self.Ug)\n",
    "        nn.init.xavier_normal_(self.Ur)\n",
    "        nn.init.xavier_normal_(self.Uh)\n",
    "        nn.init.xavier_normal_(self.Wz)\n",
    "        nn.init.xavier_normal_(self.Wg)\n",
    "        nn.init.xavier_normal_(self.Wr)\n",
    "        nn.init.xavier_normal_(self.Wh)\n",
    "        \n",
    "        fan_in, _ = nn.init._calculate_fan_in_and_fan_out(self.Wz)\n",
    "        bound = 1 / math.sqrt(fan_in)\n",
    "        nn.init.uniform_(self.bz,-bound, bound)\n",
    "        \n",
    "        fan_in, _ = nn.init._calculate_fan_in_and_fan_out(self.Wh)\n",
    "        bound = 1 / math.sqrt(fan_in)\n",
    "        nn.init.uniform_(self.bg,-bound, bound)\n",
    "        \n",
    "        fan_in, _ = nn.init._calculate_fan_in_and_fan_out(self.Wr)\n",
    "        bound = 1 / math.sqrt(fan_in)\n",
    "        nn.init.uniform_(self.br,-bound, bound)\n",
    "        \n",
    "        fan_in, _ = nn.init._calculate_fan_in_and_fan_out(self.Wh)\n",
    "        bound = 1 / math.sqrt(fan_in)\n",
    "        nn.init.uniform_(self.bh,-bound, bound)\n",
    "        \n",
    "    def forward(self, x, s):\n",
    "        z = torch.tanh(x @ self.Uz +  s @ self.Wz + self.bz )\n",
    "        g = torch.tanh(x @ self.Ug +  s @ self.Wg + self.bg )\n",
    "        r = torch.tanh(x @ self.Ur +  s @ self.Wr + self.br )\n",
    "        h = torch.tanh(x @ self.Uh +  (s * r) @ self.Wh + self.bh  )\n",
    "        \n",
    "        s_next = (1 - g) * h + z*s\n",
    "        if (self.residual == True) : s_next = s_next + s\n",
    "        \n",
    "        return s_next"
   ]
  },
  {
   "cell_type": "code",
   "execution_count": 4,
   "metadata": {},
   "outputs": [],
   "source": [
    "class Dense_layer(nn.Module):\n",
    "    def __init__(self, in_features, out_features):\n",
    "        super(Dense_layer, self).__init__()\n",
    "        \n",
    "        self.W = nn.Parameter(torch.Tensor(in_features, out_features))\n",
    "        self.b = nn.Parameter(torch.Tensor(out_features))\n",
    "        \n",
    "        self.reset_parameters()\n",
    "\n",
    "    def reset_parameters(self):\n",
    "        nn.init.xavier_normal_(self.W)\n",
    "\n",
    "        fan_in, _ = nn.init._calculate_fan_in_and_fan_out(self.W)\n",
    "        bound = 1 / math.sqrt(fan_in)\n",
    "        nn.init.uniform_(self.b,-bound, bound)\n",
    "        \n",
    "    def forward(self, x):\n",
    "        s = x @ self.W + self.b\n",
    "        return s"
   ]
  },
  {
   "cell_type": "code",
   "execution_count": 5,
   "metadata": {},
   "outputs": [],
   "source": [
    "class DGM_net(nn.Module):\n",
    "    def __init__(self, in_dim,out_dim, n_layers, n_neurons, residual = False):\n",
    "        \"\"\" in_dim is number of cordinates + 1 \n",
    "            out_dim is the number of output\n",
    "            n_layers and n_neurons are pretty self explanatory\n",
    "            make residual = true for identity between each DGM layers\n",
    "        \"\"\"\n",
    "        super(DGM_net, self).__init__()\n",
    "        self.in_dim = in_dim ; self.out_dim = out_dim\n",
    "        self.n_layers = n_layers\n",
    "        self.n_neurons = n_neurons\n",
    "        self.residual = residual\n",
    "\n",
    "        self.first_layer = nn.Linear(in_dim, n_neurons)\n",
    "        \n",
    "        self.dgm_layers = nn.ModuleList([DGM_layer(self.in_dim, self.n_neurons,\n",
    "                                                       self.residual) for i in range(self.n_layers)])\n",
    "        self.final_layer = nn.Linear(n_neurons,out_dim)\n",
    "    \n",
    "    def forward(self,X,t):\n",
    "        x = torch.cat((X,t),1)\n",
    "        s = torch.tanh(self.first_layer(x))\n",
    "        for i,dgm_layer in enumerate(self.dgm_layers):\n",
    "            s = dgm_layer(x, s)\n",
    "        \n",
    "        return  self.final_layer(s)"
   ]
  },
  {
   "cell_type": "code",
   "execution_count": 6,
   "metadata": {},
   "outputs": [],
   "source": [
    "# PDE parameters\n",
    "r = 0.05            # Interest rate\n",
    "sigma = 0.25        # Volatility\n",
    "mu = 0.2            # Mean\n",
    "lambd = (mu-r)/sigma\n",
    "gamma = 1           # Utility decay\n",
    "\n",
    "# Time limits\n",
    "T0 = 0.0 + 1e-10    # Initial time\n",
    "T  = 1.0            # Terminal time\n",
    "\n",
    "# Space limits\n",
    "S1 = 0.0 + 1e-10    # Low boundary\n",
    "S2 = 1              # High boundary\n",
    "\n",
    "\n",
    "# Merton's analytical known solution\n",
    "def analytical_solution(t, x):\n",
    "    return -np.exp(-x*gamma*np.exp(r*(T-t)) - (T-t)*0.5*lambd**2)\n",
    "\n",
    "def analytical_dVdx(t,x):\n",
    "    return gamma*np.exp(-0.5*(T-t)*lambd**2 + r*(T-t))*np.exp(-x*gamma*np.exp(r*(T-t)))\n",
    "\n",
    "def analytical_dV2dxx(t,x):\n",
    "    return -gamma**2*np.exp(-0.5*(T-t)*lambd**2 + 2*r*(T-t))*np.exp(-x*gamma*np.exp(r*(T-t)))\n",
    "\n",
    "# Merton's final utility function\n",
    "def utility(x):\n",
    "    return -torch.exp(-gamma*x)"
   ]
  },
  {
   "cell_type": "markdown",
   "metadata": {},
   "source": [
    "Definition of domain sampling and loss function from https://github.com/adolfocorreia/DGM/, adapted to pytorch"
   ]
  },
  {
   "cell_type": "code",
   "execution_count": 7,
   "metadata": {},
   "outputs": [],
   "source": [
    "def sampler(N1, N2, N3):\n",
    "    # Sampler #1: PDE domain\n",
    "    t1 = np.random.uniform(low=T0 - 0.5*(T - T0),\n",
    "                           high=T,\n",
    "                           size=[N1,1])\n",
    "    s1 = np.random.uniform(low=S1 - (S2 - S1)*0.5,\n",
    "                           high=S2 + (S2 - S1)*0.5,\n",
    "                           size=[N1,1])\n",
    "\n",
    "    # Sampler #2: boundary condition\n",
    "    t2 = np.zeros(shape=(1, 1))\n",
    "    s2 = np.zeros(shape=(1, 1))\n",
    "    \n",
    "    # Sampler #3: initial/terminal condition\n",
    "    t3 = T * np.ones((N3,1)) #Terminal condition\n",
    "    s3 = np.random.uniform(low=S1 - (S2 - S1)*0.5,\n",
    "                           high=S2 + (S2 - S1)*0.5,\n",
    "                           size=[N3,1])\n",
    "    \n",
    "    t1=torch.tensor(t1, dtype=torch.float32, requires_grad=True).cuda()\n",
    "    s1=torch.tensor(s1, dtype=torch.float32, requires_grad=True).cuda()\n",
    "    t2=torch.tensor(t2, dtype=torch.float32, requires_grad=True).cuda()\n",
    "    s2=torch.tensor(s2, dtype=torch.float32, requires_grad=True).cuda()\n",
    "    t3=torch.tensor(t3, dtype=torch.float32, requires_grad=True).cuda()\n",
    "    s3=torch.tensor(s3, dtype=torch.float32, requires_grad=True).cuda()\n",
    "    return (t1, s1, t2, s2, t3, s3)"
   ]
  },
  {
   "cell_type": "code",
   "execution_count": 39,
   "metadata": {},
   "outputs": [],
   "source": [
    "def Loss(model, t1, x1, t2, x2, t3, x3):\n",
    "    # Loss term #1: PDE\n",
    "    V = model(t1, x1)\n",
    "    V_t = torch.autograd.grad(V.sum(), t1, create_graph=True, retain_graph=True)[0]\n",
    "    V_x = torch.autograd.grad(V.sum(), x1, create_graph=True, retain_graph=True)[0]\n",
    "    V_xx = torch.autograd.grad(V_x.sum(), x1, create_graph = True, retain_graph=True)[0]\n",
    "    f = -0.5*lambd**2*V_x**2 + (V_t + r*x1*V_x)*V_xx\n",
    "\n",
    "    L1 = torch.mean(torch.pow(f,2))\n",
    "\n",
    "    # Loss term #2: boundary condition\n",
    "    L2 = 0.0\n",
    "    \n",
    "    # Loss term #3: initial/terminal condition\n",
    "    L3 = torch.mean(torch.pow((model(t3, x3) - utility(x3)),2))\n",
    "\n",
    "    return L1, L2, L3\n"
   ]
  },
  {
   "cell_type": "markdown",
   "metadata": {},
   "source": [
    "Model init and training"
   ]
  },
  {
   "cell_type": "code",
   "execution_count": 40,
   "metadata": {},
   "outputs": [],
   "source": [
    "model = DGM_net(2,1,3,50)\n",
    "model.cuda()\n",
    "opt = torch.optim.RMSprop(model.parameters(),lr = 0.001)\n",
    "scheduler = torch.optim.lr_scheduler.ExponentialLR(opt,gamma=0.99)\n",
    "\n",
    "loss = nn.MSELoss()\n",
    "# Number of samples\n",
    "NS_1 = 1000\n",
    "NS_2 = 0\n",
    "NS_3 = 100\n",
    "\n",
    "\n",
    "# Training parameters\n",
    "steps_per_sample = 10\n",
    "sampling_stages = 800"
   ]
  },
  {
   "cell_type": "code",
   "execution_count": 41,
   "metadata": {},
   "outputs": [],
   "source": [
    "def train_model(model, optimizer, scheduler, num_epochs=100):\n",
    "    since = time.time()\n",
    "    model.train()\n",
    "  # Set model to training mode\n",
    "    \n",
    "    for epoch in range(num_epochs):\n",
    "        t1, x1, t2, x2, t3, x3 = sampler(NS_1, NS_2, NS_3) #\n",
    "        scheduler.step()\n",
    "\n",
    "        for _ in range(steps_per_sample) :\n",
    "\n",
    "            # zero the parameter gradients\n",
    "            optimizer.zero_grad()\n",
    "        \n",
    "            # forward\n",
    "            L1, L2, L3 = Loss(model, t1, x1, t2, x2, t3, x3)\n",
    "    \n",
    "            loss = L1 + L2 + L3\n",
    "            # backward + optimize\n",
    "            loss.backward()\n",
    "            optimizer.step()\n",
    "            \n",
    "        epoch +=1 \n",
    "        if epoch % (num_epochs//100) == 0: print(f'epoch {epoch}, loss {loss.data}, L1 : {L1.data}, L3 : {L3.data}')\n",
    "    time_elapsed = time.time() - since\n",
    "    print(f\"Training finished in {time_elapsed:.2f} for {num_epochs}.\")\n",
    "    print(f\"The final loss value is {loss.data}\")"
   ]
  },
  {
   "cell_type": "code",
   "execution_count": null,
   "metadata": {},
   "outputs": [
    {
     "name": "stdout",
     "output_type": "stream",
     "text": [
      "epoch 8, loss 0.0033979443833231926, L1 : 0.0011159833520650864, L3 : 0.0022819610312581062\n",
      "epoch 16, loss 0.0012001283466815948, L1 : 0.0005589041975326836, L3 : 0.0006412240909412503\n",
      "epoch 24, loss 0.0006277032662183046, L1 : 0.00024683267110958695, L3 : 0.0003808705660048872\n",
      "epoch 32, loss 0.0004270496719982475, L1 : 0.00019579498621169478, L3 : 0.00023125468578655273\n",
      "epoch 40, loss 0.005572431720793247, L1 : 0.0002664158819243312, L3 : 0.005306015722453594\n",
      "epoch 48, loss 0.0006184724625200033, L1 : 0.00013213134661782533, L3 : 0.00048634110135026276\n",
      "epoch 56, loss 0.002491056453436613, L1 : 0.0019670764449983835, L3 : 0.0005239798920229077\n",
      "epoch 64, loss 0.00020922021940350533, L1 : 0.00011078317766077816, L3 : 9.843704901868477e-05\n",
      "epoch 72, loss 0.0001490326103521511, L1 : 7.70638944231905e-05, L3 : 7.196871592896059e-05\n",
      "epoch 80, loss 0.00021369736350607127, L1 : 0.0001515362673671916, L3 : 6.216109613887966e-05\n",
      "epoch 88, loss 0.0009476918494328856, L1 : 0.00026076901121996343, L3 : 0.0006869228673167527\n",
      "epoch 96, loss 0.00039444066351279616, L1 : 0.0001478881313232705, L3 : 0.0002465525467414409\n",
      "epoch 104, loss 0.00010657437815098092, L1 : 4.142912075622007e-05, L3 : 6.514525739476085e-05\n",
      "epoch 112, loss 0.00027974776457995176, L1 : 4.0887403883971274e-05, L3 : 0.0002388603606959805\n",
      "epoch 120, loss 0.00012622270151041448, L1 : 5.102486102259718e-05, L3 : 7.51978368498385e-05\n",
      "epoch 128, loss 8.065783185884356e-05, L1 : 3.3841664844658226e-05, L3 : 4.6816170652164146e-05\n",
      "epoch 136, loss 0.00023445324040949345, L1 : 0.00015631463611498475, L3 : 7.813859701855108e-05\n",
      "epoch 144, loss 0.0005429963348433375, L1 : 7.928283594083041e-05, L3 : 0.0004637134843505919\n",
      "epoch 152, loss 9.516255522612482e-05, L1 : 6.609594856854528e-05, L3 : 2.9066604838590138e-05\n",
      "epoch 160, loss 0.0003274758637417108, L1 : 0.0002936323289759457, L3 : 3.384354567970149e-05\n",
      "epoch 168, loss 3.132272104267031e-05, L1 : 1.9941129721701145e-05, L3 : 1.1381593139958568e-05\n",
      "epoch 176, loss 0.00029596759122796357, L1 : 0.0002267137315357104, L3 : 6.925385969225317e-05\n",
      "epoch 184, loss 3.0206025257939473e-05, L1 : 1.5726023775641806e-05, L3 : 1.4480002391792368e-05\n",
      "epoch 192, loss 5.962510476820171e-05, L1 : 1.967206299013924e-05, L3 : 3.995303995907307e-05\n",
      "epoch 200, loss 8.80677325767465e-05, L1 : 1.8008810002356768e-05, L3 : 7.005892257438973e-05\n",
      "epoch 208, loss 2.0386909454828128e-05, L1 : 1.0534932698647026e-05, L3 : 9.8519758466864e-06\n",
      "epoch 216, loss 0.0001178664606413804, L1 : 1.1926852494070772e-05, L3 : 0.00010593960905680433\n",
      "epoch 224, loss 8.078495011432096e-05, L1 : 3.247694985475391e-05, L3 : 4.830800025956705e-05\n",
      "epoch 232, loss 0.00011507709132274613, L1 : 1.5259303836501203e-05, L3 : 9.981778566725552e-05\n",
      "epoch 240, loss 7.088057463988662e-05, L1 : 1.594805871718563e-05, L3 : 5.493251956067979e-05\n",
      "epoch 248, loss 1.8922894014394842e-05, L1 : 1.310422521783039e-05, L3 : 5.8186683418171015e-06\n",
      "epoch 256, loss 1.8250389985041693e-05, L1 : 8.154731403919868e-06, L3 : 1.0095659490616526e-05\n",
      "epoch 264, loss 2.2946316676097922e-05, L1 : 1.824488390411716e-05, L3 : 4.7014327719807625e-06\n",
      "epoch 272, loss 7.834256393834949e-06, L1 : 6.2021254052524455e-06, L3 : 1.632131443329854e-06\n",
      "epoch 280, loss 1.4003373507875949e-05, L1 : 7.425462172250263e-06, L3 : 6.577911790373037e-06\n",
      "epoch 288, loss 2.2049989638617262e-05, L1 : 7.4959234552807175e-06, L3 : 1.4554065273841843e-05\n",
      "epoch 296, loss 2.4275641408166848e-05, L1 : 1.9429318854236044e-05, L3 : 4.846322553930804e-06\n",
      "epoch 304, loss 1.2006341421511024e-05, L1 : 5.804476586490637e-06, L3 : 6.201864380273037e-06\n",
      "epoch 312, loss 1.1179825378349051e-05, L1 : 7.399833521049004e-06, L3 : 3.7799920846737223e-06\n",
      "epoch 320, loss 7.1497197495773435e-06, L1 : 4.775286015501479e-06, L3 : 2.3744339614495402e-06\n",
      "epoch 328, loss 8.36985509522492e-06, L1 : 5.146309376868885e-06, L3 : 3.22354549098236e-06\n",
      "epoch 336, loss 1.0161476893699728e-05, L1 : 4.850772256759228e-06, L3 : 5.310705091687851e-06\n",
      "epoch 344, loss 6.9655229708587285e-06, L1 : 5.026318831369281e-06, L3 : 1.9392041394894477e-06\n",
      "epoch 352, loss 6.732269866915885e-06, L1 : 4.4899516069563106e-06, L3 : 2.242318259959575e-06\n",
      "epoch 360, loss 8.694425559951924e-06, L1 : 4.545021511148661e-06, L3 : 4.1494035940559115e-06\n",
      "epoch 368, loss 1.4141150131763425e-05, L1 : 4.639090548153035e-06, L3 : 9.50205958361039e-06\n",
      "epoch 376, loss 6.379984370141756e-06, L1 : 4.42726377514191e-06, L3 : 1.9527208223735215e-06\n",
      "epoch 384, loss 7.025736522336956e-06, L1 : 3.872226898238296e-06, L3 : 3.153509396724985e-06\n",
      "epoch 392, loss 6.972247319936287e-06, L1 : 3.882833425450372e-06, L3 : 3.0894141218595905e-06\n",
      "epoch 400, loss 6.286664756771643e-06, L1 : 3.7553706988546764e-06, L3 : 2.5312940579169663e-06\n",
      "epoch 408, loss 8.212586180889048e-06, L1 : 4.870826614933321e-06, L3 : 3.3417600207030773e-06\n",
      "epoch 416, loss 5.489090199262137e-06, L1 : 3.8044886423449498e-06, L3 : 1.684601443230349e-06\n",
      "epoch 424, loss 5.210527433519019e-06, L1 : 3.349739927216433e-06, L3 : 1.860787392615748e-06\n",
      "epoch 432, loss 5.498487553268205e-06, L1 : 3.356824890943244e-06, L3 : 2.141662434951286e-06\n",
      "epoch 440, loss 5.324017365637701e-06, L1 : 3.263156941102352e-06, L3 : 2.060860424535349e-06\n",
      "epoch 448, loss 6.525795470224693e-06, L1 : 3.868769454129506e-06, L3 : 2.6570260160951875e-06\n",
      "epoch 456, loss 5.735100330639398e-06, L1 : 3.143713911413215e-06, L3 : 2.5913864192261826e-06\n",
      "epoch 464, loss 4.714018359663896e-06, L1 : 3.1967886116035515e-06, L3 : 1.5172295206866693e-06\n",
      "epoch 472, loss 5.255855285213329e-06, L1 : 2.8957199447177118e-06, L3 : 2.3601351131219417e-06\n",
      "epoch 480, loss 5.451729521155357e-06, L1 : 2.906398549384903e-06, L3 : 2.545330971770454e-06\n",
      "epoch 488, loss 4.9293630581814796e-06, L1 : 2.627598178150947e-06, L3 : 2.301765107404208e-06\n",
      "epoch 496, loss 4.826301847060677e-06, L1 : 2.9967075079184724e-06, L3 : 1.8295942254553665e-06\n",
      "epoch 504, loss 4.879994776274543e-06, L1 : 2.537951559133944e-06, L3 : 2.3420434445142746e-06\n",
      "epoch 512, loss 3.98768270315486e-06, L1 : 2.815251946231001e-06, L3 : 1.1724308706106967e-06\n",
      "epoch 520, loss 4.919602815789403e-06, L1 : 2.486226094333688e-06, L3 : 2.4333767214557156e-06\n",
      "epoch 528, loss 3.89613433071645e-06, L1 : 2.466123760314076e-06, L3 : 1.4300104567155358e-06\n",
      "epoch 536, loss 4.4713510760630015e-06, L1 : 2.633974645505077e-06, L3 : 1.8373763168710866e-06\n",
      "epoch 544, loss 4.475880814425182e-06, L1 : 2.4092630610539345e-06, L3 : 2.066617753371247e-06\n",
      "epoch 552, loss 5.179617801331915e-06, L1 : 2.545173856560723e-06, L3 : 2.6344437173975166e-06\n",
      "epoch 560, loss 4.717126103059854e-06, L1 : 2.617609197841375e-06, L3 : 2.0995171325921547e-06\n",
      "epoch 568, loss 4.535968400887214e-06, L1 : 2.1904634195379913e-06, L3 : 2.345504753975547e-06\n",
      "epoch 576, loss 3.6955602809030097e-06, L1 : 2.246394615212921e-06, L3 : 1.4491657793769264e-06\n",
      "epoch 584, loss 3.3149574392155046e-06, L1 : 2.333969632672961e-06, L3 : 9.809878065425437e-07\n",
      "epoch 592, loss 4.2367073547211476e-06, L1 : 2.479133172528236e-06, L3 : 1.7575742958797491e-06\n",
      "epoch 600, loss 3.5842685974785127e-06, L1 : 2.0871170818281826e-06, L3 : 1.4971514019634924e-06\n",
      "epoch 608, loss 3.9211045077536255e-06, L1 : 2.0554891762003535e-06, L3 : 1.8656151041795965e-06\n",
      "epoch 616, loss 4.3796135287266225e-06, L1 : 2.0416259758349042e-06, L3 : 2.3379877802653937e-06\n",
      "epoch 624, loss 3.0734754545846954e-06, L1 : 2.0557247353281127e-06, L3 : 1.0177508329434204e-06\n",
      "epoch 632, loss 3.5906834909837926e-06, L1 : 1.9224426068831235e-06, L3 : 1.668240884100669e-06\n",
      "epoch 640, loss 3.478910912235733e-06, L1 : 2.21387813326146e-06, L3 : 1.265032892661111e-06\n",
      "epoch 648, loss 3.878830284520518e-06, L1 : 2.1591197310044663e-06, L3 : 1.7197106672028895e-06\n",
      "epoch 656, loss 3.6217838896845933e-06, L1 : 1.9557376162993023e-06, L3 : 1.6660461596984533e-06\n",
      "epoch 664, loss 3.975580511905719e-06, L1 : 1.965025603567483e-06, L3 : 2.0105549083382357e-06\n",
      "epoch 672, loss 4.4342295950627886e-06, L1 : 2.3078844151314115e-06, L3 : 2.1263454073050525e-06\n",
      "epoch 680, loss 4.003698904853081e-06, L1 : 2.162823875551112e-06, L3 : 1.840875142988807e-06\n",
      "epoch 688, loss 3.8802181734354235e-06, L1 : 2.149691908925888e-06, L3 : 1.7305264918832108e-06\n",
      "epoch 696, loss 2.758163873295416e-06, L1 : 1.8994743413713877e-06, L3 : 8.586895887674473e-07\n"
     ]
    },
    {
     "name": "stdout",
     "output_type": "stream",
     "text": [
      "epoch 704, loss 4.060705578012858e-06, L1 : 2.0192285319353687e-06, L3 : 2.0414772734511644e-06\n",
      "epoch 712, loss 3.5425746318651363e-06, L1 : 1.9973495000158437e-06, L3 : 1.5452252455361304e-06\n",
      "epoch 720, loss 3.7774907468701713e-06, L1 : 2.0088332348677795e-06, L3 : 1.768657398315554e-06\n",
      "epoch 728, loss 3.3219098440895323e-06, L1 : 1.9767462617892306e-06, L3 : 1.3451635823003016e-06\n",
      "epoch 736, loss 3.236369138903683e-06, L1 : 1.7805679135562968e-06, L3 : 1.4558012253473862e-06\n",
      "epoch 744, loss 3.6585149700840702e-06, L1 : 1.9280137166788336e-06, L3 : 1.7305012534052366e-06\n",
      "epoch 752, loss 3.929152171622263e-06, L1 : 1.8078019365930231e-06, L3 : 2.12135023502924e-06\n",
      "epoch 760, loss 3.458781066001393e-06, L1 : 1.9030223938898416e-06, L3 : 1.5557585584247136e-06\n",
      "epoch 768, loss 3.2644022667227546e-06, L1 : 2.015822019529878e-06, L3 : 1.2485802471928764e-06\n",
      "epoch 776, loss 3.613412218328449e-06, L1 : 1.7604859294806374e-06, L3 : 1.8529262888478115e-06\n"
     ]
    }
   ],
   "source": [
    "train_model(model, opt, scheduler, sampling_stages)"
   ]
  },
  {
   "cell_type": "code",
   "execution_count": 38,
   "metadata": {},
   "outputs": [
    {
     "data": {
      "image/png": "[encoded data removed]",
      "text/plain": [
       "<Figure size 576x504 with 4 Axes>"
      ]
     },
     "metadata": {
      "needs_background": "light"
     },
     "output_type": "display_data"
    }
   ],
   "source": [
    "# Plot results\n",
    "N = 41      # Points on plot grid\n",
    "\n",
    "times_to_plot = [0*T, 0.33*T, 0.66*T, T]\n",
    "tplot = np.linspace(T0, T, N)\n",
    "xplot = np.linspace(S1, S2, N)\n",
    "\n",
    "plt.figure(figsize=(8,7))\n",
    "i = 1\n",
    "for t in times_to_plot:\n",
    "    solution_plot = analytical_solution(t, xplot)\n",
    "\n",
    "    tt = t*np.ones_like(xplot.reshape(-1,1))\n",
    "    \n",
    "    tt_nn = torch.tensor(tt.reshape(-1,1), dtype=torch.float32).cuda()\n",
    "    xplot_nn = torch.tensor(xplot.reshape(-1,1), dtype=torch.float32).cuda()\n",
    "    nn_plot = model(tt_nn,xplot_nn).cpu()\n",
    "\n",
    "    plt.subplot(2,2,i)\n",
    "    plt.plot(xplot, solution_plot, 'b')\n",
    "    plt.plot(xplot, nn_plot.data.numpy(), 'r')\n",
    "\n",
    "    plt.ylim(-1.1, -0.2)\n",
    "    plt.xlabel(\"S\")\n",
    "    plt.ylabel(\"V\")\n",
    "    plt.title(\"t = %.2f\"%t, loc=\"left\")\n",
    "    i = i+1\n",
    "\n",
    "plt.show()"
   ]
  },
  {
   "cell_type": "code",
   "execution_count": null,
   "metadata": {},
   "outputs": [],
   "source": []
  },
  {
   "cell_type": "code",
   "execution_count": null,
   "metadata": {},
   "outputs": [],
   "source": []
  },
  {
   "cell_type": "markdown",
   "metadata": {},
   "source": [
    "test section"
   ]
  },
  {
   "cell_type": "code",
   "execution_count": null,
   "metadata": {},
   "outputs": [],
   "source": [
    "for param in model.parameters():\n",
    "    print(param.grad.data.sum())"
   ]
  },
  {
   "cell_type": "code",
   "execution_count": null,
   "metadata": {},
   "outputs": [],
   "source": [
    "for param in model.parameters():\n",
    "  print(param.data)"
   ]
  },
  {
   "cell_type": "code",
   "execution_count": null,
   "metadata": {},
   "outputs": [],
   "source": [
    "for param in model.parameters():\n",
    "  print(param.data)"
   ]
  },
  {
   "cell_type": "code",
   "execution_count": null,
   "metadata": {},
   "outputs": [],
   "source": [
    "xplot.reshape(-1,1)"
   ]
  },
  {
   "cell_type": "code",
   "execution_count": 19,
   "metadata": {},
   "outputs": [],
   "source": [
    "        t1, x1, t2, x2, t3, x3 = sampler(NS_1, NS_2, NS_3) #\n"
   ]
  },
  {
   "cell_type": "code",
   "execution_count": null,
   "metadata": {},
   "outputs": [],
   "source": []
  },
  {
   "cell_type": "code",
   "execution_count": null,
   "metadata": {},
   "outputs": [],
   "source": []
  }
 ],
 "metadata": {
  "kernelspec": {
   "display_name": "Python 3",
   "language": "python",
   "name": "python3"
  },
  "language_info": {
   "codemirror_mode": {
    "name": "ipython",
    "version": 3
   },
   "file_extension": ".py",
   "mimetype": "text/x-python",
   "name": "python",
   "nbconvert_exporter": "python",
   "pygments_lexer": "ipython3",
   "version": "3.7.1"
  }
 },
 "nbformat": 4,
 "nbformat_minor": 2
}

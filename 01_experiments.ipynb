{
 "cells": [
  {
   "cell_type": "markdown",
   "metadata": {},
   "source": [
    "# Reproducing arXiv:1811.08782v1"
   ]
  },
  {
   "cell_type": "markdown",
   "metadata": {},
   "source": [
    "This notebook is an attempt to reproduce `Solving Nonlinear and High-Dimensional Partial Differential Equations via Deep Learning` (https://arxiv.org/abs/1811.08782v1)."
   ]
  },
  {
   "cell_type": "markdown",
   "metadata": {},
   "source": [
    "**ABSTRACT**  \n",
    "In this work we apply the Deep Galerkin Method (DGM) described in Sirignano and Spiliopoulos (2018) to solve a number of partial differential equations that arise in quantitative finance applications including option pricing, optimal execution, mean field games, etc. The main idea behind DGM is to represent the unknown function of interest using a deep neural network. A key feature of this approach is the fact that, unlike other commonly used numerical approaches such as finite difference methods, it is mesh-free. As such, it does not suffer (as much as other numerical methods) from the curse of dimensionality associated with highdimensional PDEs and PDE systems. The main goals of this paper are to elucidate the features, capabilities and limitations of DGM by analyzing aspects of its implementation for a number of different PDEs and PDE systems. Additionally, we present: (1) a brief overview of PDEs in quantitative finance along with numerical methods for solving them; (2) a brief overview of deep learning and, in particular, the notion of neural networks; (3) a discussion of the theoretical foundations of DGM with a focus on the justification of why this method is expected to perform well."
   ]
  },
  {
   "cell_type": "markdown",
   "metadata": {},
   "source": [
    "**REFERENCES**\n",
    "- https://github.com/adolfocorreia/DGM\n"
   ]
  },
  {
   "cell_type": "code",
   "execution_count": 2,
   "metadata": {},
   "outputs": [],
   "source": [
    "import time\n",
    "import torch\n",
    "import torch.nn as nn\n",
    "from torch.optim import lr_scheduler\n",
    "from math import pi # to get the definition of pi\n",
    "import pandas as pd\n",
    "import numpy as np\n",
    "import matplotlib.pyplot as plt"
   ]
  },
  {
   "cell_type": "markdown",
   "metadata": {},
   "source": [
    "## I) Problem Definition"
   ]
  },
  {
   "cell_type": "markdown",
   "metadata": {},
   "source": [
    "This is a thermal problem."
   ]
  },
  {
   "cell_type": "code",
   "execution_count": 3,
   "metadata": {},
   "outputs": [],
   "source": [
    "k = 400 #thermal conductivity of copper\n",
    "stefanBoltz = 5.670373e-8 # stefan-boltzman cst\n",
    "h = 1 #plate size\n",
    "Tb = 1000 #temperature of the bottom\n",
    "epsilon=0.5 # emissivity\n",
    "rho = 8960 # Copper density\n",
    "Cp=386 #specific heat\n",
    "Ta = 300 #ambient temperature\n",
    "tz = 0.01 # plate thickness\n",
    "\n",
    "#for ease of use\n",
    "a = rho*Cp*tz\n",
    "b = -k*tz\n",
    "c = 2*h\n",
    "d = 2*stefanBoltz*epsilon"
   ]
  },
  {
   "cell_type": "code",
   "execution_count": 4,
   "metadata": {},
   "outputs": [],
   "source": [
    "n = 25\n",
    "L=h\n",
    "#bottom edge\n",
    "rand_L = np.random.rand(n) * L \n",
    "discr_s1 = (np.array([rand_L.transpose(), np.zeros(n)])).transpose()\n",
    "\n",
    "#other edges\n",
    "border = np.ones([n])*L\n",
    "rand_L = np.random.rand(n) * L \n",
    "discr_s2_1 = np.array([border, rand_L.transpose()]).transpose()\n",
    "rand_L = np.random.rand(n) * L \n",
    "discr_s2_2 = np.array([rand_L.transpose(), border]).transpose()\n",
    "rand_L = np.random.rand(n) * L \n",
    "discr_s2_3 = np.array([np.zeros(n), rand_L.transpose()]).transpose()"
   ]
  },
  {
   "cell_type": "code",
   "execution_count": 5,
   "metadata": {},
   "outputs": [
    {
     "data": {
      "text/plain": [
       "[<matplotlib.lines.Line2D at 0x7f08d2ee9f28>]"
      ]
     },
     "execution_count": 5,
     "metadata": {},
     "output_type": "execute_result"
    },
    {
     "data": {
      "image/png": "[encoded data removed]",
      "text/plain": [
       "<Figure size 432x288 with 1 Axes>"
      ]
     },
     "metadata": {
      "needs_background": "light"
     },
     "output_type": "display_data"
    }
   ],
   "source": [
    "plt.plot(discr_s1[:,0],discr_s1[:,1], 'go')\n",
    "plt.plot(discr_s2_1[:,0],discr_s2_1[:,1],'ro') \n",
    "plt.plot(discr_s2_2[:,0],discr_s2_2[:,1],'ro') \n",
    "plt.plot(discr_s2_3[:,0],discr_s2_3[:,1],'ro') "
   ]
  },
  {
   "cell_type": "code",
   "execution_count": 6,
   "metadata": {},
   "outputs": [],
   "source": [
    "n=200\n",
    "discr_om = np.array([np.random.rand(n), np.random.rand(n)]).transpose() * L\n",
    "discr_om = discr_om[np.where((np.abs(discr_om[:,0])< L-0.02))]\n",
    "discr_om = discr_om[np.where((np.abs(discr_om[:,1])< L-0.02))]\n",
    "discr_om = discr_om[np.where((np.abs(discr_om[:,0])> 0.02))]\n",
    "discr_om = discr_om[np.where((np.abs(discr_om[:,1])> 0.02))]"
   ]
  },
  {
   "cell_type": "code",
   "execution_count": 7,
   "metadata": {},
   "outputs": [
    {
     "data": {
      "text/plain": [
       "[<matplotlib.lines.Line2D at 0x7f08d2e179b0>]"
      ]
     },
     "execution_count": 7,
     "metadata": {},
     "output_type": "execute_result"
    },
    {
     "data": {
      "image/png": "[encoded data removed]",
      "text/plain": [
       "<Figure size 432x288 with 1 Axes>"
      ]
     },
     "metadata": {
      "needs_background": "light"
     },
     "output_type": "display_data"
    }
   ],
   "source": [
    "plt.plot(discr_s1[:,0],discr_s1[:,1], 'go')\n",
    "plt.plot(discr_s2_1[:,0],discr_s2_1[:,1],'ro') \n",
    "plt.plot(discr_s2_2[:,0],discr_s2_2[:,1],'ro') \n",
    "plt.plot(discr_s2_3[:,0],discr_s2_3[:,1],'ro') \n",
    "plt.plot(discr_om[:,0],discr_om[:,1],'bo')"
   ]
  },
  {
   "cell_type": "code",
   "execution_count": 8,
   "metadata": {},
   "outputs": [],
   "source": [
    "discr_t = np.linspace(0.1,200,20)"
   ]
  },
  {
   "cell_type": "code",
   "execution_count": 9,
   "metadata": {},
   "outputs": [
    {
     "name": "stdout",
     "output_type": "stream",
     "text": [
      "(3900, 3) (500, 3) (1500, 3) (195, 3)\n"
     ]
    }
   ],
   "source": [
    "size_om = discr_om.shape[0]\n",
    "size_s1 = discr_s1.shape[0]\n",
    "size_s2 = discr_s2_1.shape[0]\n",
    "\n",
    "discr_om_t = np.concatenate((discr_om, np.ones([size_om,1])*discr_t[0]), axis=1)\n",
    "discr_s1_t = np.concatenate((discr_s1, np.ones([size_s1,1])*discr_t[0]), axis=1)\n",
    "discr_s2_1_t = np.concatenate((discr_s2_1, np.ones([size_s2,1])*discr_t[0]), axis=1)\n",
    "discr_s2_2_t = np.concatenate((discr_s2_2, np.ones([size_s2,1])*discr_t[0]), axis=1)\n",
    "discr_s2_3_t = np.concatenate((discr_s2_3, np.ones([size_s2,1])*discr_t[0]), axis=1)\n",
    "discr_om_0 = np.concatenate((discr_om, np.ones([size_om,1])*0), axis=1)\n",
    "for i in range(discr_t.size - 1 ):\n",
    "    discr_om_t_temp = np.concatenate((discr_om, np.ones([size_om,1])*discr_t[i+1]), axis=1)\n",
    "    discr_om_t = np.concatenate((discr_om_t, discr_om_t_temp))\n",
    "    \n",
    "    discr_s1_t_temp = np.concatenate((discr_s1, np.ones([size_s1,1])*discr_t[i+1]), axis=1)\n",
    "    discr_s1_t = np.concatenate((discr_s1_t, discr_s1_t_temp))\n",
    "    \n",
    "    discr_s2_t_temp = np.concatenate((discr_s2_1, np.ones([size_s2,1])*discr_t[i+1]), axis=1)\n",
    "    discr_s2_1_t = np.concatenate((discr_s2_1_t, discr_s2_t_temp))\n",
    "    \n",
    "    discr_s2_t_temp = np.concatenate((discr_s2_1, np.ones([size_s2,1])*discr_t[i+1]), axis=1)\n",
    "    discr_s2_2_t = np.concatenate((discr_s2_2_t, discr_s2_t_temp))\n",
    "    \n",
    "    discr_s2_t_temp = np.concatenate((discr_s2_3, np.ones([size_s2,1])*discr_t[i+1]), axis=1)\n",
    "    discr_s2_3_t = np.concatenate((discr_s2_3_t, discr_s2_t_temp))\n",
    "    \n",
    "discr_s2_t = np.concatenate((discr_s2_1_t,discr_s2_2_t,discr_s2_3_t))\n",
    "\n",
    "print(discr_om_t.shape,discr_s1_t.shape,discr_s2_t.shape, discr_om_0.shape)\n",
    "\n",
    "\n",
    "discr_om_t = torch.tensor(discr_om_t, requires_grad=True).to(torch.float32).cuda()\n",
    "discr_s1_t = torch.tensor(discr_s1_t, requires_grad=True).to(torch.float32).cuda()\n",
    "discr_s2_t = torch.tensor(discr_s2_t, requires_grad=True).to(torch.float32).cuda()\n",
    "discr_om_0 = torch.tensor(discr_om_0, requires_grad=True).to(torch.float32).cuda()\n",
    "\n",
    "data = torch.cat((discr_om_0, discr_om_t, discr_s1_t, discr_s2_t)); \n",
    "size_om_t,size_s1, size_s2,size_om_0 = discr_om_t.shape[0],discr_s1_t.shape[0],discr_s2_t.shape[0], discr_om_0.shape[0]"
   ]
  },
  {
   "cell_type": "code",
   "execution_count": null,
   "metadata": {},
   "outputs": [],
   "source": []
  },
  {
   "cell_type": "markdown",
   "metadata": {},
   "source": [
    "## II) Implementation of the loss function"
   ]
  },
  {
   "cell_type": "markdown",
   "metadata": {},
   "source": [
    "The loss function has 3 components:\n",
    "* A measure of how the approximation satisfies the **boundary condition**  \n",
    "$\\left\\lVert f(t,x;\\theta)-g(t,x)\\right\\rVert^ 2_{[0,T]\\times \\partial \\Omega, \\nu_1}$ \n",
    "* A measure of how well the approximation satisfies the **differential operator**  \n",
    "$\\left\\lVert (\\partial_t+\\mathcal{L})f(t,x;\\theta\\right\\rVert^ 2_{[0,T]\\times \\partial \\Omega, \\nu_2}$ \n",
    "* A measure of how well the approximation satisfies the **initial condition**  \n",
    "$\\left\\lVert f(0,x;\\theta)-u_0(x)\\right\\rVert^ 2_{\\Omega, \\nu_3}$ "
   ]
  },
  {
   "cell_type": "markdown",
   "metadata": {},
   "source": [
    "Finally our loss function is:  \n",
    "$L(\\theta) = \\left\\lVert f(t,x;\\theta)-g(t,x)\\right\\rVert^ 2_{[0,T]\\times \\partial \\Omega, \\nu_1} + \\left\\lVert (\\partial_t+\\mathcal{L})f(t,x;\\theta\\right\\rVert^ 2_{[0,T]\\times \\partial \\Omega, \\nu_2} + \\left\\lVert f(0,x;\\theta)-u_0(x)\\right\\rVert^ 2_{\\Omega, \\nu_3} $"
   ]
  },
  {
   "cell_type": "code",
   "execution_count": 10,
   "metadata": {},
   "outputs": [],
   "source": [
    "def g1(X) : return 0 #no conductivity on s2\n",
    "def g2(X) : return 1000 #temperature at the bottom\n",
    "def u0(X) : return 300 #initial temperature of the plate\n",
    "def f(X) : return 0 #left hand side of the PDE"
   ]
  },
  {
   "cell_type": "code",
   "execution_count": 11,
   "metadata": {},
   "outputs": [],
   "source": [
    "def Loss_test1(discr_om_t, discr_s1_t, discr_s2_t, discr_om) :\n",
    "\n",
    "    #compute solution\n",
    "    N_om = model(discr_om_t)[:,0] # For the PDE\n",
    "    N_s1 = model(discr_s1_t) # for the BC on sigma1\n",
    "    N_s2 = model(discr_s2_t)[:,0] # for the BC on sigma2\n",
    "    N_0 = model(discr_om)[:,0] # for the BC on omega at t=0\n",
    "    \n",
    "    #derivative on the domain\n",
    "    fst_order = torch.autograd.grad(N_om.sum(), discr_om_t, create_graph=True)\n",
    "    hes_x = torch.autograd.grad(fst_order[0][:,0].sum(),discr_om_t, create_graph=True)[0][:,0]\n",
    "    hes_y = torch.autograd.grad(fst_order[0][:,1].sum(),discr_om_t, create_graph=True)[0][:,1]\n",
    "    \n",
    "    #derivative on the top and side edges\n",
    "    fst_order_s2 = torch.autograd.grad(N_s2.sum(), discr_s2_t, create_graph=True)\n",
    "    normal_derivative = torch.cat((fst_order_s2[0][:400,0],fst_order_s2[0][400:800,1], -fst_order_s2[0][800:,0]))\n",
    "    \n",
    "    \n",
    "    loss_om = torch.sum((a*fst_order[0][:,2] + b*(hes_x + hes_y) + c*(N_om-Ta) + d*(N_om**4-Ta**4))**2)\n",
    "    loss_s1 = torch.sum((N_s1-Tb)**2)\n",
    "    loss_s2 = torch.sum((normal_derivative)**2)\n",
    "    loss_0  = torch.sum((N_0-Ta)**2)\n",
    "    \n",
    "    loss =   torch.sqrt(loss_s1) + torch.sqrt(loss_om) + torch.sqrt(loss_s2) + torch.sqrt(loss_0.sum())\n",
    "    \n",
    "    return loss"
   ]
  },
  {
   "cell_type": "code",
   "execution_count": 12,
   "metadata": {},
   "outputs": [],
   "source": [
    "def Loss_test2(data,size_om_0, size_om_t,size_s1, size_s2) :\n",
    "    #data order is the same as size order.\n",
    "    output = model(data)\n",
    "    \n",
    "    #data slice\n",
    "    om_0 = slice(0, size_om_0)\n",
    "    om_t = slice(size_om_0, size_om_0+size_om_t)\n",
    "    s1_t = slice(size_om_0+size_om_t, size_om_0+size_om_t+size_s1)\n",
    "    s2_t = slice(size_om_0+size_om_t+size_s1, size_om_0+size_om_t+size_s1+size_s2)\n",
    "    \n",
    "    fst_order = torch.autograd.grad(N_om.sum(), data, create_graph=True)\n",
    "    hes_x = torch.autograd.grad(fst_order[0][om_t,0].sum(),data[om_t], create_graph=True)[0][:,0]\n",
    "    hes_y = torch.autograd.grad(fst_order[0][om_t,1].sum(),data[om_t], create_graph=True)[0][:,1]\n",
    "    \n",
    "    normal= torch.where((data[:,0]==0) |(data[:,0]==1), fst_order, 0)\n",
    "    \n",
    "    normal_derivative = torch.cat((fst_order_s2[0][:25,0],fst_order_s2[0][25:50,1], -fst_order_s2[0][50:,0]))"
   ]
  },
  {
   "cell_type": "markdown",
   "metadata": {},
   "source": [
    "## III) Implementation of the DGM"
   ]
  },
  {
   "cell_type": "markdown",
   "metadata": {},
   "source": [
    "(from page 45 in the paper)\n",
    "![DMG](DGM_1.png)"
   ]
  },
  {
   "cell_type": "code",
   "execution_count": 13,
   "metadata": {},
   "outputs": [],
   "source": [
    "class DGM(nn.Module):\n",
    "    # Initialize the layers\n",
    "    def __init__(self):\n",
    "        super().__init__()\n",
    "        self.S1 = nn.Linear(3,50)\n",
    "        self.Z1 = nn.Linear(50,50) ; self.UZ1 = nn.Linear(3,50, bias=False)\n",
    "        self.G1 = nn.Linear(50,50) ; self.UG1 = nn.Linear(3,50, bias=False)\n",
    "        self.R1 = nn.Linear(50,50) ; self.UR1 = nn.Linear(3,50, bias=False)\n",
    "        self.H1 = nn.Linear(50,50) ; self.UH1 = nn.Linear(3,50, bias=False)\n",
    "\n",
    "        self.Z2 = nn.Linear(50,50) ; self.UZ2 = nn.Linear(3,50, bias=False)\n",
    "        self.G2 = nn.Linear(50,50) ; self.UG2 = nn.Linear(3,50, bias=False)\n",
    "        self.R2 = nn.Linear(50,50) ; self.UR2 = nn.Linear(3,50, bias=False)\n",
    "        self.H2 = nn.Linear(50,50) ; self.UH2 = nn.Linear(3,50, bias=False)\n",
    "\n",
    "        self.Z3 = nn.Linear(50,50) ; self.UZ3 = nn.Linear(3,50, bias=False)\n",
    "        self.G3 = nn.Linear(50,50) ; self.UG3 = nn.Linear(3,50, bias=False)\n",
    "        self.R3 = nn.Linear(50,50) ; self.UR3 = nn.Linear(3,50, bias=False)\n",
    "        self.H3 = nn.Linear(50,50) ; self.UH3 = nn.Linear(3,50, bias=False)\n",
    "        self.S4 = nn.Linear(50,50)\n",
    "        self.Z4 = nn.Linear(50,50) ; self.UZ4 = nn.Linear(3,50, bias=False)\n",
    "        self.G4 = nn.Linear(50,50) ; self.UG4 = nn.Linear(3,50, bias=False)\n",
    "        self.R4 = nn.Linear(50,50) ; self.UR4 = nn.Linear(3,50, bias=False)\n",
    "        self.H4 = nn.Linear(50,50) ; self.UH4 = nn.Linear(3,50, bias=False)\n",
    "\n",
    "        self.f = nn.Linear(50,1)\n",
    "        \n",
    "        self.bn1 = nn.BatchNorm1d(50)\n",
    "        self.bn2 = nn.BatchNorm1d(50)\n",
    "        self.bn3 = nn.BatchNorm1d(50)\n",
    "        \n",
    "    def forward(self,x):\n",
    "        s1 = torch.tanh(self.S1(x))\n",
    "        z1 = torch.tanh(self.UZ1(x)+self.Z1(s1))\n",
    "        g1 = torch.tanh(self.UG1(x)+self.G1(s1))\n",
    "        r1 = torch.tanh(self.UR1(x)+self.R1(s1))\n",
    "        h1 = torch.tanh(self.UH1(x)+self.H1(s1*r1))\n",
    "        s2 = (1 - g1) * h1 + z1*s1 + s1\n",
    "        z2 = torch.tanh(self.UZ2(x)+self.Z2(s2))\n",
    "        g2 = torch.tanh(self.UG2(x)+self.G2(s2))\n",
    "        r2 = torch.tanh(self.UR2(x)+self.R2(s2))\n",
    "        h2 = torch.tanh(self.UH2(x)+self.H2(s2*r2))\n",
    "        s3 = (1 - g2) * h2 + z2*s2 + s2\n",
    "        z3 = torch.tanh(self.UZ3(x)+self.Z3(s3))\n",
    "        g3 = torch.tanh(self.UG3(x)+self.G3(s3))\n",
    "        r3 = torch.tanh(self.UR3(x)+self.R3(s3))\n",
    "        h3 = torch.tanh(self.UH3(x)+self.H3(s3*r3))\n",
    "        s4 = (1 - g3) * h3 + z3*s3 +s3\n",
    "        x = self.f(s4)\n",
    "        return x"
   ]
  },
  {
   "cell_type": "code",
   "execution_count": 14,
   "metadata": {},
   "outputs": [],
   "source": [
    "class SimpleNet(nn.Module):\n",
    "    # Initialize the layers\n",
    "    def __init__(self):\n",
    "        super().__init__()\n",
    "        self.linear1 = nn.Linear(3, 100, bias=True) #multipliyin the input by some weigth\n",
    "        self.linear2 = nn.Linear(100, 100)\n",
    "        self.linear3 = nn.Linear(100, 100)\n",
    "        self.linear4 = nn.Linear(100, 1)\n",
    "\n",
    "        self.bn1 = nn.BatchNorm1d(100)\n",
    "        self.bn2 = nn.BatchNorm1d(100)\n",
    "        self.bn3 = nn.BatchNorm1d(100)\n",
    "        \n",
    "    def forward(self,x):\n",
    "        x = torch.tanh(self.bn1(self.linear1(x)))\n",
    "        x = torch.tanh(self.bn2(self.linear2(x))) + x\n",
    "        x = torch.tanh(self.bn3(self.linear3(x))) + x\n",
    "        x = self.linear4(x)\n",
    "\n",
    "        return x"
   ]
  },
  {
   "cell_type": "markdown",
   "metadata": {},
   "source": [
    "## IV) Training the model"
   ]
  },
  {
   "cell_type": "code",
   "execution_count": 15,
   "metadata": {},
   "outputs": [],
   "source": [
    "model = DGM() #the network we created\n",
    "opt = torch.optim.Adam(model.parameters(),lr = 0.01) #gradient descent\n",
    "exp_lr_scheduler = lr_scheduler.StepLR(opt, step_size=300, gamma=0.1)\n",
    "model.cuda()\n",
    "\n",
    "def fit_final(epochs, lr):\n",
    "    lr.step()\n",
    "#     opt.param_groups[0]['lr'] = lr\n",
    "    \n",
    "    for epoch in range(epochs):\n",
    "        epoch +=1\n",
    "        opt.zero_grad()\n",
    "        loss = Loss_test1(discr_om_t, discr_s1_t, discr_s2_t, discr_om_0) \n",
    "        loss.backward()\n",
    "        opt.step()# update the parameters\n",
    "        if epoch % (epochs//10) == 0: print('epoch {}, loss {}'.format(epoch, loss.data))"
   ]
  },
  {
   "cell_type": "code",
   "execution_count": 65,
   "metadata": {},
   "outputs": [
    {
     "data": {
      "text/plain": [
       "tensor([ 0.5783,  0.3116,  0.7376,  ..., 37.8524, 37.1068, 37.1142],\n",
       "       device='cuda:0', grad_fn=<SelectBackward>)"
      ]
     },
     "execution_count": 65,
     "metadata": {},
     "output_type": "execute_result"
    }
   ],
   "source": [
    "model(discr_om_t)[:,0]"
   ]
  },
  {
   "cell_type": "code",
   "execution_count": 16,
   "metadata": {},
   "outputs": [],
   "source": [
    "def train_model(model, optimizer, scheduler, num_epochs=100):\n",
    "    since = time.time()\n",
    "\n",
    "    for epoch in range(num_epochs):\n",
    "        scheduler.step()\n",
    "        model.train()  # Set model to training mode\n",
    "        # zero the parameter gradients\n",
    "        optimizer.zero_grad()\n",
    "        \n",
    "        # forward\n",
    "        loss = Loss_test1(discr_om_t, discr_s1_t, discr_s2_t, discr_om_0)\n",
    "\n",
    "        # backward + optimize\n",
    "        loss.backward()\n",
    "        optimizer.step()\n",
    "        epoch +=1 \n",
    "        if epoch % (num_epochs//10) == 0: print(f'epoch {epoch}, loss {loss.data}')\n",
    "    time_elapsed = time.time() - since\n",
    "    print(f\"Training finished in {time_elapsed:.2f} for {num_epochs}.\")\n",
    "    print(f\"The final loss value is {loss.data}\")"
   ]
  },
  {
   "cell_type": "code",
   "execution_count": 18,
   "metadata": {},
   "outputs": [
    {
     "name": "stdout",
     "output_type": "stream",
     "text": [
      "epoch 100, loss 33015.97265625\n",
      "epoch 200, loss 29279.07421875\n",
      "epoch 300, loss 26785.541015625\n",
      "epoch 400, loss 26775.609375\n",
      "epoch 500, loss 26751.00390625\n",
      "epoch 600, loss 26651.884765625\n",
      "epoch 700, loss 26645.94921875\n",
      "epoch 800, loss 26639.939453125\n",
      "epoch 900, loss 26639.2734375\n"
     ]
    },
    {
     "ename": "KeyboardInterrupt",
     "evalue": "",
     "output_type": "error",
     "traceback": [
      "\u001b[0;31m---------------------------------------------------------------------------\u001b[0m",
      "\u001b[0;31mKeyboardInterrupt\u001b[0m                         Traceback (most recent call last)",
      "\u001b[0;32m<ipython-input-18-c3243281741c>\u001b[0m in \u001b[0;36m<module>\u001b[0;34m\u001b[0m\n\u001b[1;32m      1\u001b[0m \u001b[0;31m# lr = [5e-1,1e-1,5e-2,1e-2,5e-3,1e-3,5e-4,1e-4,5e-5,1e-5,5e-6,1e-6,5e-7,1e-7]\u001b[0m\u001b[0;34m\u001b[0m\u001b[0;34m\u001b[0m\u001b[0;34m\u001b[0m\u001b[0m\n\u001b[0;32m----> 2\u001b[0;31m \u001b[0mtrain_model\u001b[0m\u001b[0;34m(\u001b[0m\u001b[0mmodel\u001b[0m\u001b[0;34m,\u001b[0m \u001b[0mopt\u001b[0m\u001b[0;34m,\u001b[0m \u001b[0mexp_lr_scheduler\u001b[0m\u001b[0;34m,\u001b[0m \u001b[0;36m1000\u001b[0m\u001b[0;34m)\u001b[0m\u001b[0;34m\u001b[0m\u001b[0;34m\u001b[0m\u001b[0m\n\u001b[0m",
      "\u001b[0;32m<ipython-input-16-8640eaa3fa3d>\u001b[0m in \u001b[0;36mtrain_model\u001b[0;34m(model, optimizer, scheduler, num_epochs)\u001b[0m\n\u001b[1;32m     12\u001b[0m \u001b[0;34m\u001b[0m\u001b[0m\n\u001b[1;32m     13\u001b[0m         \u001b[0;31m# backward + optimize\u001b[0m\u001b[0;34m\u001b[0m\u001b[0;34m\u001b[0m\u001b[0;34m\u001b[0m\u001b[0m\n\u001b[0;32m---> 14\u001b[0;31m         \u001b[0mloss\u001b[0m\u001b[0;34m.\u001b[0m\u001b[0mbackward\u001b[0m\u001b[0;34m(\u001b[0m\u001b[0;34m)\u001b[0m\u001b[0;34m\u001b[0m\u001b[0;34m\u001b[0m\u001b[0m\n\u001b[0m\u001b[1;32m     15\u001b[0m         \u001b[0moptimizer\u001b[0m\u001b[0;34m.\u001b[0m\u001b[0mstep\u001b[0m\u001b[0;34m(\u001b[0m\u001b[0;34m)\u001b[0m\u001b[0;34m\u001b[0m\u001b[0;34m\u001b[0m\u001b[0m\n\u001b[1;32m     16\u001b[0m         \u001b[0mepoch\u001b[0m \u001b[0;34m+=\u001b[0m\u001b[0;36m1\u001b[0m\u001b[0;34m\u001b[0m\u001b[0;34m\u001b[0m\u001b[0m\n",
      "\u001b[0;32m~/anaconda3/envs/deep-high-resolution-net.pytorch/lib/python3.7/site-packages/torch/tensor.py\u001b[0m in \u001b[0;36mbackward\u001b[0;34m(self, gradient, retain_graph, create_graph)\u001b[0m\n\u001b[1;32m    100\u001b[0m                 \u001b[0mproducts\u001b[0m\u001b[0;34m.\u001b[0m \u001b[0mDefaults\u001b[0m \u001b[0mto\u001b[0m\u001b[0;31m \u001b[0m\u001b[0;31m`\u001b[0m\u001b[0;31m`\u001b[0m\u001b[0;32mFalse\u001b[0m\u001b[0;31m`\u001b[0m\u001b[0;31m`\u001b[0m\u001b[0;34m.\u001b[0m\u001b[0;34m\u001b[0m\u001b[0;34m\u001b[0m\u001b[0m\n\u001b[1;32m    101\u001b[0m         \"\"\"\n\u001b[0;32m--> 102\u001b[0;31m         \u001b[0mtorch\u001b[0m\u001b[0;34m.\u001b[0m\u001b[0mautograd\u001b[0m\u001b[0;34m.\u001b[0m\u001b[0mbackward\u001b[0m\u001b[0;34m(\u001b[0m\u001b[0mself\u001b[0m\u001b[0;34m,\u001b[0m \u001b[0mgradient\u001b[0m\u001b[0;34m,\u001b[0m \u001b[0mretain_graph\u001b[0m\u001b[0;34m,\u001b[0m \u001b[0mcreate_graph\u001b[0m\u001b[0;34m)\u001b[0m\u001b[0;34m\u001b[0m\u001b[0;34m\u001b[0m\u001b[0m\n\u001b[0m\u001b[1;32m    103\u001b[0m \u001b[0;34m\u001b[0m\u001b[0m\n\u001b[1;32m    104\u001b[0m     \u001b[0;32mdef\u001b[0m \u001b[0mregister_hook\u001b[0m\u001b[0;34m(\u001b[0m\u001b[0mself\u001b[0m\u001b[0;34m,\u001b[0m \u001b[0mhook\u001b[0m\u001b[0;34m)\u001b[0m\u001b[0;34m:\u001b[0m\u001b[0;34m\u001b[0m\u001b[0;34m\u001b[0m\u001b[0m\n",
      "\u001b[0;32m~/anaconda3/envs/deep-high-resolution-net.pytorch/lib/python3.7/site-packages/torch/autograd/__init__.py\u001b[0m in \u001b[0;36mbackward\u001b[0;34m(tensors, grad_tensors, retain_graph, create_graph, grad_variables)\u001b[0m\n\u001b[1;32m     88\u001b[0m     Variable._execution_engine.run_backward(\n\u001b[1;32m     89\u001b[0m         \u001b[0mtensors\u001b[0m\u001b[0;34m,\u001b[0m \u001b[0mgrad_tensors\u001b[0m\u001b[0;34m,\u001b[0m \u001b[0mretain_graph\u001b[0m\u001b[0;34m,\u001b[0m \u001b[0mcreate_graph\u001b[0m\u001b[0;34m,\u001b[0m\u001b[0;34m\u001b[0m\u001b[0;34m\u001b[0m\u001b[0m\n\u001b[0;32m---> 90\u001b[0;31m         allow_unreachable=True)  # allow_unreachable flag\n\u001b[0m\u001b[1;32m     91\u001b[0m \u001b[0;34m\u001b[0m\u001b[0m\n\u001b[1;32m     92\u001b[0m \u001b[0;34m\u001b[0m\u001b[0m\n",
      "\u001b[0;31mKeyboardInterrupt\u001b[0m: "
     ]
    }
   ],
   "source": [
    "# lr = [5e-1,1e-1,5e-2,1e-2,5e-3,1e-3,5e-4,1e-4,5e-5,1e-5,5e-6,1e-6,5e-7,1e-7]\n",
    "train_model(model, opt, exp_lr_scheduler, 1000)"
   ]
  },
  {
   "cell_type": "code",
   "execution_count": 33,
   "metadata": {},
   "outputs": [
    {
     "name": "stdout",
     "output_type": "stream",
     "text": [
      "epoch 100, loss 32993.05859375\n",
      "epoch 200, loss 29042.162109375\n",
      "epoch 300, loss 29112.642578125\n",
      "epoch 400, loss 28235.38671875\n",
      "epoch 500, loss 28466.412109375\n",
      "epoch 600, loss 29984.09765625\n",
      "epoch 700, loss 27407.0078125\n",
      "epoch 800, loss 26758.4765625\n",
      "epoch 900, loss 27296.951171875\n",
      "epoch 1000, loss 28262.60546875\n"
     ]
    }
   ],
   "source": [
    "fit_final(1000, exp_lr_scheduler)"
   ]
  },
  {
   "cell_type": "code",
   "execution_count": null,
   "metadata": {},
   "outputs": [],
   "source": [
    "\n",
    "#compute solution\n",
    "N_om = model(discr_om_t)[:,0] # For the PDE\n",
    "N_s1 = model(discr_s1_t)[:,0] # for the BC on sigma1\n",
    "N_s2 = model(discr_s2_t)[:,0] # for the BC on sigma2\n",
    "N_0 = model(discr_om_0)[:,0] # for the BC on omega at t=0\n",
    "    \n",
    "#derivative on the domain\n",
    "fst_order = torch.autograd.grad(N_om.sum(), discr_om_t, create_graph=True)\n",
    "hes_x = torch.autograd.grad(fst_order[0][:,0].sum(),discr_om_t, create_graph=True)[0][:,0]\n",
    "hes_y = torch.autograd.grad(fst_order[0][:,1].sum(),discr_om_t, create_graph=True)[0][:,1]\n",
    "   \n",
    "#derivative on the top and side edges\n",
    "fst_order_s2 = torch.autograd.grad(N_s2.sum(), discr_s2_t, create_graph=True)\n",
    "normal_derivative = torch.cat((fst_order_s2[0][:25,0],fst_order_s2[0][25:50,1], -fst_order_s2[0][50:,0]))\n",
    "    \n",
    "    \n",
    "loss_om = (a*fst_order[0][:,2] - b*(hes_x + hes_y) + c*(N_om-Ta) + d*(N_om**4-Ta**4))**2\n",
    "loss_s1 = (N_s1-Tb)**2\n",
    "loss_s2 = (normal_derivative)**2\n",
    "loss_0  = (N_0-Ta)**2"
   ]
  },
  {
   "cell_type": "code",
   "execution_count": null,
   "metadata": {},
   "outputs": [],
   "source": [
    "N_s1"
   ]
  },
  {
   "cell_type": "code",
   "execution_count": null,
   "metadata": {},
   "outputs": [],
   "source": []
  },
  {
   "cell_type": "code",
   "execution_count": 24,
   "metadata": {},
   "outputs": [
    {
     "ename": "FileNotFoundError",
     "evalue": "[Errno 2] File b'Laplacian100.csv' does not exist: b'Laplacian100.csv'",
     "output_type": "error",
     "traceback": [
      "\u001b[0;31m---------------------------------------------------------------------------\u001b[0m",
      "\u001b[0;31mFileNotFoundError\u001b[0m                         Traceback (most recent call last)",
      "\u001b[0;32m<ipython-input-24-f99d0fca6f31>\u001b[0m in \u001b[0;36m<module>\u001b[0;34m\u001b[0m\n\u001b[1;32m      5\u001b[0m \u001b[0;34m\u001b[0m\u001b[0m\n\u001b[1;32m      6\u001b[0m \u001b[0ms\u001b[0m \u001b[0;34m=\u001b[0m \u001b[0;36m101\u001b[0m\u001b[0;34m\u001b[0m\u001b[0;34m\u001b[0m\u001b[0m\n\u001b[0;32m----> 7\u001b[0;31m \u001b[0mdata\u001b[0m \u001b[0;34m=\u001b[0m \u001b[0mpd\u001b[0m\u001b[0;34m.\u001b[0m\u001b[0mread_csv\u001b[0m\u001b[0;34m(\u001b[0m\u001b[0;34m'Laplacian100.csv'\u001b[0m\u001b[0;34m,\u001b[0m \u001b[0mheader\u001b[0m\u001b[0;34m=\u001b[0m\u001b[0;32mNone\u001b[0m\u001b[0;34m)\u001b[0m \u001b[0;31m#let's import a grid\u001b[0m\u001b[0;34m\u001b[0m\u001b[0;34m\u001b[0m\u001b[0m\n\u001b[0m\u001b[1;32m      8\u001b[0m \u001b[0mX\u001b[0m \u001b[0;34m=\u001b[0m \u001b[0mnp\u001b[0m\u001b[0;34m.\u001b[0m\u001b[0mconcatenate\u001b[0m\u001b[0;34m(\u001b[0m\u001b[0;34m(\u001b[0m\u001b[0mdata\u001b[0m\u001b[0;34m.\u001b[0m\u001b[0mvalues\u001b[0m\u001b[0;34m[\u001b[0m\u001b[0;34m:\u001b[0m\u001b[0;34m,\u001b[0m\u001b[0;36m0\u001b[0m\u001b[0;34m:\u001b[0m\u001b[0;36m2\u001b[0m\u001b[0;34m]\u001b[0m\u001b[0;34m,\u001b[0m \u001b[0mnp\u001b[0m\u001b[0;34m.\u001b[0m\u001b[0mones\u001b[0m\u001b[0;34m(\u001b[0m\u001b[0;34m[\u001b[0m\u001b[0mdata\u001b[0m\u001b[0;34m.\u001b[0m\u001b[0mshape\u001b[0m\u001b[0;34m[\u001b[0m\u001b[0;36m0\u001b[0m\u001b[0;34m]\u001b[0m\u001b[0;34m,\u001b[0m\u001b[0;36m1\u001b[0m\u001b[0;34m]\u001b[0m\u001b[0;34m)\u001b[0m\u001b[0;34m*\u001b[0m\u001b[0;36m5000\u001b[0m \u001b[0;34m)\u001b[0m\u001b[0;34m,\u001b[0m \u001b[0maxis\u001b[0m\u001b[0;34m=\u001b[0m\u001b[0;36m1\u001b[0m\u001b[0;34m)\u001b[0m\u001b[0;34m\u001b[0m\u001b[0;34m\u001b[0m\u001b[0m\n\u001b[1;32m      9\u001b[0m \u001b[0mX\u001b[0m \u001b[0;34m=\u001b[0m \u001b[0mtorch\u001b[0m\u001b[0;34m.\u001b[0m\u001b[0mtensor\u001b[0m\u001b[0;34m(\u001b[0m\u001b[0mX\u001b[0m\u001b[0;34m,\u001b[0m \u001b[0mrequires_grad\u001b[0m\u001b[0;34m=\u001b[0m\u001b[0;32mTrue\u001b[0m\u001b[0;34m)\u001b[0m\u001b[0;34m.\u001b[0m\u001b[0mto\u001b[0m\u001b[0;34m(\u001b[0m\u001b[0mtorch\u001b[0m\u001b[0;34m.\u001b[0m\u001b[0mfloat32\u001b[0m\u001b[0;34m)\u001b[0m\u001b[0;34m.\u001b[0m\u001b[0mcuda\u001b[0m\u001b[0;34m(\u001b[0m\u001b[0;34m)\u001b[0m\u001b[0;34m;\u001b[0m\u001b[0mX\u001b[0m\u001b[0;34m\u001b[0m\u001b[0;34m\u001b[0m\u001b[0m\n",
      "\u001b[0;32m~/anaconda3/envs/deep-high-resolution-net.pytorch/lib/python3.7/site-packages/pandas/io/parsers.py\u001b[0m in \u001b[0;36mparser_f\u001b[0;34m(filepath_or_buffer, sep, delimiter, header, names, index_col, usecols, squeeze, prefix, mangle_dupe_cols, dtype, engine, converters, true_values, false_values, skipinitialspace, skiprows, skipfooter, nrows, na_values, keep_default_na, na_filter, verbose, skip_blank_lines, parse_dates, infer_datetime_format, keep_date_col, date_parser, dayfirst, iterator, chunksize, compression, thousands, decimal, lineterminator, quotechar, quoting, doublequote, escapechar, comment, encoding, dialect, tupleize_cols, error_bad_lines, warn_bad_lines, delim_whitespace, low_memory, memory_map, float_precision)\u001b[0m\n\u001b[1;32m    700\u001b[0m                     skip_blank_lines=skip_blank_lines)\n\u001b[1;32m    701\u001b[0m \u001b[0;34m\u001b[0m\u001b[0m\n\u001b[0;32m--> 702\u001b[0;31m         \u001b[0;32mreturn\u001b[0m \u001b[0m_read\u001b[0m\u001b[0;34m(\u001b[0m\u001b[0mfilepath_or_buffer\u001b[0m\u001b[0;34m,\u001b[0m \u001b[0mkwds\u001b[0m\u001b[0;34m)\u001b[0m\u001b[0;34m\u001b[0m\u001b[0;34m\u001b[0m\u001b[0m\n\u001b[0m\u001b[1;32m    703\u001b[0m \u001b[0;34m\u001b[0m\u001b[0m\n\u001b[1;32m    704\u001b[0m     \u001b[0mparser_f\u001b[0m\u001b[0;34m.\u001b[0m\u001b[0m__name__\u001b[0m \u001b[0;34m=\u001b[0m \u001b[0mname\u001b[0m\u001b[0;34m\u001b[0m\u001b[0;34m\u001b[0m\u001b[0m\n",
      "\u001b[0;32m~/anaconda3/envs/deep-high-resolution-net.pytorch/lib/python3.7/site-packages/pandas/io/parsers.py\u001b[0m in \u001b[0;36m_read\u001b[0;34m(filepath_or_buffer, kwds)\u001b[0m\n\u001b[1;32m    427\u001b[0m \u001b[0;34m\u001b[0m\u001b[0m\n\u001b[1;32m    428\u001b[0m     \u001b[0;31m# Create the parser.\u001b[0m\u001b[0;34m\u001b[0m\u001b[0;34m\u001b[0m\u001b[0;34m\u001b[0m\u001b[0m\n\u001b[0;32m--> 429\u001b[0;31m     \u001b[0mparser\u001b[0m \u001b[0;34m=\u001b[0m \u001b[0mTextFileReader\u001b[0m\u001b[0;34m(\u001b[0m\u001b[0mfilepath_or_buffer\u001b[0m\u001b[0;34m,\u001b[0m \u001b[0;34m**\u001b[0m\u001b[0mkwds\u001b[0m\u001b[0;34m)\u001b[0m\u001b[0;34m\u001b[0m\u001b[0;34m\u001b[0m\u001b[0m\n\u001b[0m\u001b[1;32m    430\u001b[0m \u001b[0;34m\u001b[0m\u001b[0m\n\u001b[1;32m    431\u001b[0m     \u001b[0;32mif\u001b[0m \u001b[0mchunksize\u001b[0m \u001b[0;32mor\u001b[0m \u001b[0miterator\u001b[0m\u001b[0;34m:\u001b[0m\u001b[0;34m\u001b[0m\u001b[0;34m\u001b[0m\u001b[0m\n",
      "\u001b[0;32m~/anaconda3/envs/deep-high-resolution-net.pytorch/lib/python3.7/site-packages/pandas/io/parsers.py\u001b[0m in \u001b[0;36m__init__\u001b[0;34m(self, f, engine, **kwds)\u001b[0m\n\u001b[1;32m    893\u001b[0m             \u001b[0mself\u001b[0m\u001b[0;34m.\u001b[0m\u001b[0moptions\u001b[0m\u001b[0;34m[\u001b[0m\u001b[0;34m'has_index_names'\u001b[0m\u001b[0;34m]\u001b[0m \u001b[0;34m=\u001b[0m \u001b[0mkwds\u001b[0m\u001b[0;34m[\u001b[0m\u001b[0;34m'has_index_names'\u001b[0m\u001b[0;34m]\u001b[0m\u001b[0;34m\u001b[0m\u001b[0;34m\u001b[0m\u001b[0m\n\u001b[1;32m    894\u001b[0m \u001b[0;34m\u001b[0m\u001b[0m\n\u001b[0;32m--> 895\u001b[0;31m         \u001b[0mself\u001b[0m\u001b[0;34m.\u001b[0m\u001b[0m_make_engine\u001b[0m\u001b[0;34m(\u001b[0m\u001b[0mself\u001b[0m\u001b[0;34m.\u001b[0m\u001b[0mengine\u001b[0m\u001b[0;34m)\u001b[0m\u001b[0;34m\u001b[0m\u001b[0;34m\u001b[0m\u001b[0m\n\u001b[0m\u001b[1;32m    896\u001b[0m \u001b[0;34m\u001b[0m\u001b[0m\n\u001b[1;32m    897\u001b[0m     \u001b[0;32mdef\u001b[0m \u001b[0mclose\u001b[0m\u001b[0;34m(\u001b[0m\u001b[0mself\u001b[0m\u001b[0;34m)\u001b[0m\u001b[0;34m:\u001b[0m\u001b[0;34m\u001b[0m\u001b[0;34m\u001b[0m\u001b[0m\n",
      "\u001b[0;32m~/anaconda3/envs/deep-high-resolution-net.pytorch/lib/python3.7/site-packages/pandas/io/parsers.py\u001b[0m in \u001b[0;36m_make_engine\u001b[0;34m(self, engine)\u001b[0m\n\u001b[1;32m   1120\u001b[0m     \u001b[0;32mdef\u001b[0m \u001b[0m_make_engine\u001b[0m\u001b[0;34m(\u001b[0m\u001b[0mself\u001b[0m\u001b[0;34m,\u001b[0m \u001b[0mengine\u001b[0m\u001b[0;34m=\u001b[0m\u001b[0;34m'c'\u001b[0m\u001b[0;34m)\u001b[0m\u001b[0;34m:\u001b[0m\u001b[0;34m\u001b[0m\u001b[0;34m\u001b[0m\u001b[0m\n\u001b[1;32m   1121\u001b[0m         \u001b[0;32mif\u001b[0m \u001b[0mengine\u001b[0m \u001b[0;34m==\u001b[0m \u001b[0;34m'c'\u001b[0m\u001b[0;34m:\u001b[0m\u001b[0;34m\u001b[0m\u001b[0;34m\u001b[0m\u001b[0m\n\u001b[0;32m-> 1122\u001b[0;31m             \u001b[0mself\u001b[0m\u001b[0;34m.\u001b[0m\u001b[0m_engine\u001b[0m \u001b[0;34m=\u001b[0m \u001b[0mCParserWrapper\u001b[0m\u001b[0;34m(\u001b[0m\u001b[0mself\u001b[0m\u001b[0;34m.\u001b[0m\u001b[0mf\u001b[0m\u001b[0;34m,\u001b[0m \u001b[0;34m**\u001b[0m\u001b[0mself\u001b[0m\u001b[0;34m.\u001b[0m\u001b[0moptions\u001b[0m\u001b[0;34m)\u001b[0m\u001b[0;34m\u001b[0m\u001b[0;34m\u001b[0m\u001b[0m\n\u001b[0m\u001b[1;32m   1123\u001b[0m         \u001b[0;32melse\u001b[0m\u001b[0;34m:\u001b[0m\u001b[0;34m\u001b[0m\u001b[0;34m\u001b[0m\u001b[0m\n\u001b[1;32m   1124\u001b[0m             \u001b[0;32mif\u001b[0m \u001b[0mengine\u001b[0m \u001b[0;34m==\u001b[0m \u001b[0;34m'python'\u001b[0m\u001b[0;34m:\u001b[0m\u001b[0;34m\u001b[0m\u001b[0;34m\u001b[0m\u001b[0m\n",
      "\u001b[0;32m~/anaconda3/envs/deep-high-resolution-net.pytorch/lib/python3.7/site-packages/pandas/io/parsers.py\u001b[0m in \u001b[0;36m__init__\u001b[0;34m(self, src, **kwds)\u001b[0m\n\u001b[1;32m   1851\u001b[0m         \u001b[0mkwds\u001b[0m\u001b[0;34m[\u001b[0m\u001b[0;34m'usecols'\u001b[0m\u001b[0;34m]\u001b[0m \u001b[0;34m=\u001b[0m \u001b[0mself\u001b[0m\u001b[0;34m.\u001b[0m\u001b[0musecols\u001b[0m\u001b[0;34m\u001b[0m\u001b[0;34m\u001b[0m\u001b[0m\n\u001b[1;32m   1852\u001b[0m \u001b[0;34m\u001b[0m\u001b[0m\n\u001b[0;32m-> 1853\u001b[0;31m         \u001b[0mself\u001b[0m\u001b[0;34m.\u001b[0m\u001b[0m_reader\u001b[0m \u001b[0;34m=\u001b[0m \u001b[0mparsers\u001b[0m\u001b[0;34m.\u001b[0m\u001b[0mTextReader\u001b[0m\u001b[0;34m(\u001b[0m\u001b[0msrc\u001b[0m\u001b[0;34m,\u001b[0m \u001b[0;34m**\u001b[0m\u001b[0mkwds\u001b[0m\u001b[0;34m)\u001b[0m\u001b[0;34m\u001b[0m\u001b[0;34m\u001b[0m\u001b[0m\n\u001b[0m\u001b[1;32m   1854\u001b[0m         \u001b[0mself\u001b[0m\u001b[0;34m.\u001b[0m\u001b[0munnamed_cols\u001b[0m \u001b[0;34m=\u001b[0m \u001b[0mself\u001b[0m\u001b[0;34m.\u001b[0m\u001b[0m_reader\u001b[0m\u001b[0;34m.\u001b[0m\u001b[0munnamed_cols\u001b[0m\u001b[0;34m\u001b[0m\u001b[0;34m\u001b[0m\u001b[0m\n\u001b[1;32m   1855\u001b[0m \u001b[0;34m\u001b[0m\u001b[0m\n",
      "\u001b[0;32mpandas/_libs/parsers.pyx\u001b[0m in \u001b[0;36mpandas._libs.parsers.TextReader.__cinit__\u001b[0;34m()\u001b[0m\n",
      "\u001b[0;32mpandas/_libs/parsers.pyx\u001b[0m in \u001b[0;36mpandas._libs.parsers.TextReader._setup_parser_source\u001b[0;34m()\u001b[0m\n",
      "\u001b[0;31mFileNotFoundError\u001b[0m: [Errno 2] File b'Laplacian100.csv' does not exist: b'Laplacian100.csv'"
     ]
    }
   ],
   "source": [
    "import matplotlib.pyplot as plt\n",
    "from matplotlib import pyplot, cm\n",
    "from mpl_toolkits.mplot3d import Axes3D \n",
    "import numpy as np\n",
    "\n",
    "s = 101\n",
    "data = pd.read_csv('Laplacian100.csv', header=None) #let's import a grid\n",
    "X = np.concatenate((data.values[:,0:2], np.ones([data.shape[0],1])*5000 ), axis=1)\n",
    "X = torch.tensor(X, requires_grad=True).to(torch.float32).cuda();X\n",
    "\n",
    "x = np.reshape(data.values[:,0],[s,s])\n",
    "y = np.reshape(data.values[:,1],[s,s])\n",
    "\n",
    "N = model(X).cpu()\n",
    "u_model = np.reshape(N.data.numpy(),[s,s])\n",
    "\n",
    "plt.contour(x,y,u_model)"
   ]
  },
  {
   "cell_type": "code",
   "execution_count": null,
   "metadata": {},
   "outputs": [],
   "source": []
  },
  {
   "cell_type": "code",
   "execution_count": null,
   "metadata": {},
   "outputs": [],
   "source": [
    "#data order is the same as size order.\n",
    "output = model(data)\n",
    "    \n",
    "#data slice\n",
    "om_0 = slice(0, size_om_0)\n",
    "om_t = slice(size_om_0, size_om_0+size_om_t)\n",
    "s1_t = slice(size_om_0+size_om_t, size_om_0+size_om_t+size_s1)\n",
    "s2_t = slice(size_om_0+size_om_t+size_s1, size_om_0+size_om_t+size_s1+size_s2)\n",
    "    \n",
    "fst_order = torch.autograd.grad(output.sum(), data, create_graph=True)\n",
    "hes_x = torch.autograd.grad(fst_order[0][om_t,0].sum(),data[om_t], create_graph=True)[0][:,0]\n",
    "hes_y = torch.autograd.grad(fst_order[0][om_t,1].sum(),data[om_t], create_graph=True)[0][:,1]\n",
    "    \n",
    "normal= torch.where((data[:,0]==0) |(data[:,0]==1), fst_order, 0)\n",
    "    \n",
    "normal_derivative = torch.cat((fst_order_s2[0][:25,0],fst_order_s2[0][25:50,1], -fst_order_s2[0][50:,0]))"
   ]
  },
  {
   "cell_type": "code",
   "execution_count": null,
   "metadata": {},
   "outputs": [],
   "source": []
  },
  {
   "cell_type": "code",
   "execution_count": null,
   "metadata": {},
   "outputs": [],
   "source": [
    "model.S1.weight"
   ]
  },
  {
   "cell_type": "code",
   "execution_count": null,
   "metadata": {},
   "outputs": [],
   "source": []
  }
 ],
 "metadata": {
  "kernelspec": {
   "display_name": "Python 3",
   "language": "python",
   "name": "python3"
  },
  "language_info": {
   "codemirror_mode": {
    "name": "ipython",
    "version": 3
   },
   "file_extension": ".py",
   "mimetype": "text/x-python",
   "name": "python",
   "nbconvert_exporter": "python",
   "pygments_lexer": "ipython3",
   "version": "3.7.2"
  }
 },
 "nbformat": 4,
 "nbformat_minor": 2
}
